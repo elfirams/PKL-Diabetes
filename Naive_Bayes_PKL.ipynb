{
  "nbformat": 4,
  "nbformat_minor": 0,
  "metadata": {
    "colab": {
      "provenance": []
    },
    "kernelspec": {
      "name": "python3",
      "display_name": "Python 3"
    },
    "language_info": {
      "name": "python"
    }
  },
  "cells": [
    {
      "cell_type": "markdown",
      "source": [
        "# **Import Libraries**"
      ],
      "metadata": {
        "id": "xzPFq1uWMUzW"
      }
    },
    {
      "cell_type": "code",
      "source": [
        "import numpy as np\n",
        "import pandas as pd\n",
        "import seaborn as sns\n",
        "import matplotlib.pyplot as plt\n",
        "import re"
      ],
      "metadata": {
        "id": "9uvUFVY5MTep"
      },
      "execution_count": 47,
      "outputs": []
    },
    {
      "cell_type": "markdown",
      "source": [
        "#**1. Data Wrangling**"
      ],
      "metadata": {
        "id": "cKTgZsb5E1y2"
      }
    },
    {
      "cell_type": "code",
      "execution_count": 48,
      "metadata": {
        "id": "8b2W49zfEm3D",
        "colab": {
          "base_uri": "https://localhost:8080/"
        },
        "outputId": "7ab6410e-41c9-4860-9a18-b58737c8caf8"
      },
      "outputs": [
        {
          "output_type": "stream",
          "name": "stdout",
          "text": [
            "Drive already mounted at /content/drive; to attempt to forcibly remount, call drive.mount(\"/content/drive\", force_remount=True).\n"
          ]
        }
      ],
      "source": [
        "from google.colab import drive\n",
        "drive.mount('/content/drive')"
      ]
    },
    {
      "cell_type": "markdown",
      "source": [
        "## Gathering Data"
      ],
      "metadata": {
        "id": "9QeMaZHh9sZk"
      }
    },
    {
      "cell_type": "code",
      "source": [
        "# URL atau path ke workbook\n",
        "file_path = '/content/drive/MyDrive/PKL/Data Gathering.xlsx'\n",
        "\n",
        "# Baca semua sheet\n",
        "all_sheets = pd.read_excel(file_path, sheet_name=None)\n",
        "\n",
        "# sheet yang ingin digabungkan\n",
        "sheets_to_combine = ['2023 new', '2024 new', 'poli pd']\n",
        "selected_sheets = [all_sheets[sheet] for sheet in sheets_to_combine]\n",
        "\n",
        "# Gabungkan sheet yang dipilih\n",
        "df = pd.concat(selected_sheets, ignore_index=True)"
      ],
      "metadata": {
        "id": "ZDoN5e8cIwnX"
      },
      "execution_count": 49,
      "outputs": []
    },
    {
      "cell_type": "code",
      "source": [
        "# Melakukan copy pada data\n",
        "df1 = df.copy()\n",
        "\n",
        "df1.head()"
      ],
      "metadata": {
        "colab": {
          "base_uri": "https://localhost:8080/",
          "height": 625
        },
        "id": "xrY2Fr0hbXHK",
        "outputId": "1686ec19-3ff0-462b-969d-0213e4325e78"
      },
      "execution_count": 50,
      "outputs": [
        {
          "output_type": "execute_result",
          "data": {
            "text/plain": [
              "            cm                noreg gender  usia_tahun  usia_bulan  usia_hari  \\\n",
              "0   0000005418  J1-41-231012-00-019      P          58          11          6   \n",
              "1   0000005418  J1-41-231012-00-019      P          58          11          6   \n",
              "2  2021-897727  J1-41-231013-00-011      P          45           4         22   \n",
              "3  2021-897727  J1-41-231013-00-011      P          45           4         22   \n",
              "4  2021-897727  J1-41-231013-00-011      P          45           4         22   \n",
              "\n",
              "            dtgdaftar                                           diagnosa  \\\n",
              "0 2023-10-12 09:00:00          E10 - Insulin-dependent diabetes mellitus   \n",
              "1 2023-10-12 09:00:00          E10 - Insulin-dependent diabetes mellitus   \n",
              "2 2023-10-13 08:00:00  E11.8 - Non-insulin-dependent diabetes mellitu...   \n",
              "3 2023-10-13 08:00:00  E11.8 - Non-insulin-dependent diabetes mellitu...   \n",
              "4 2023-10-13 08:00:00  E11.8 - Non-insulin-dependent diabetes mellitu...   \n",
              "\n",
              "      TB    BB    IMT           TEST_NM RESULT_VALUE FLAG REF_RANGE  \n",
              "0  160.0  75.0  29.30     Glukosa Puasa          191    H  70 - 125  \n",
              "1  160.0  75.0  29.30  Glukosa 2 Jam PP          233    H     < 140  \n",
              "2  153.0  65.0  27.77  Kolesterol Total          207    H     < 200  \n",
              "3  153.0  65.0  27.77     Glukosa Puasa          115    N  70 - 125  \n",
              "4  153.0  65.0  27.77  Glukosa 2 Jam PP          212    H     < 140  "
            ],
            "text/html": [
              "\n",
              "  <div id=\"df-4d2de87f-68a1-4e9e-abb1-651b37fac192\" class=\"colab-df-container\">\n",
              "    <div>\n",
              "<style scoped>\n",
              "    .dataframe tbody tr th:only-of-type {\n",
              "        vertical-align: middle;\n",
              "    }\n",
              "\n",
              "    .dataframe tbody tr th {\n",
              "        vertical-align: top;\n",
              "    }\n",
              "\n",
              "    .dataframe thead th {\n",
              "        text-align: right;\n",
              "    }\n",
              "</style>\n",
              "<table border=\"1\" class=\"dataframe\">\n",
              "  <thead>\n",
              "    <tr style=\"text-align: right;\">\n",
              "      <th></th>\n",
              "      <th>cm</th>\n",
              "      <th>noreg</th>\n",
              "      <th>gender</th>\n",
              "      <th>usia_tahun</th>\n",
              "      <th>usia_bulan</th>\n",
              "      <th>usia_hari</th>\n",
              "      <th>dtgdaftar</th>\n",
              "      <th>diagnosa</th>\n",
              "      <th>TB</th>\n",
              "      <th>BB</th>\n",
              "      <th>IMT</th>\n",
              "      <th>TEST_NM</th>\n",
              "      <th>RESULT_VALUE</th>\n",
              "      <th>FLAG</th>\n",
              "      <th>REF_RANGE</th>\n",
              "    </tr>\n",
              "  </thead>\n",
              "  <tbody>\n",
              "    <tr>\n",
              "      <th>0</th>\n",
              "      <td>0000005418</td>\n",
              "      <td>J1-41-231012-00-019</td>\n",
              "      <td>P</td>\n",
              "      <td>58</td>\n",
              "      <td>11</td>\n",
              "      <td>6</td>\n",
              "      <td>2023-10-12 09:00:00</td>\n",
              "      <td>E10 - Insulin-dependent diabetes mellitus</td>\n",
              "      <td>160.0</td>\n",
              "      <td>75.0</td>\n",
              "      <td>29.30</td>\n",
              "      <td>Glukosa Puasa</td>\n",
              "      <td>191</td>\n",
              "      <td>H</td>\n",
              "      <td>70 - 125</td>\n",
              "    </tr>\n",
              "    <tr>\n",
              "      <th>1</th>\n",
              "      <td>0000005418</td>\n",
              "      <td>J1-41-231012-00-019</td>\n",
              "      <td>P</td>\n",
              "      <td>58</td>\n",
              "      <td>11</td>\n",
              "      <td>6</td>\n",
              "      <td>2023-10-12 09:00:00</td>\n",
              "      <td>E10 - Insulin-dependent diabetes mellitus</td>\n",
              "      <td>160.0</td>\n",
              "      <td>75.0</td>\n",
              "      <td>29.30</td>\n",
              "      <td>Glukosa 2 Jam PP</td>\n",
              "      <td>233</td>\n",
              "      <td>H</td>\n",
              "      <td>&lt; 140</td>\n",
              "    </tr>\n",
              "    <tr>\n",
              "      <th>2</th>\n",
              "      <td>2021-897727</td>\n",
              "      <td>J1-41-231013-00-011</td>\n",
              "      <td>P</td>\n",
              "      <td>45</td>\n",
              "      <td>4</td>\n",
              "      <td>22</td>\n",
              "      <td>2023-10-13 08:00:00</td>\n",
              "      <td>E11.8 - Non-insulin-dependent diabetes mellitu...</td>\n",
              "      <td>153.0</td>\n",
              "      <td>65.0</td>\n",
              "      <td>27.77</td>\n",
              "      <td>Kolesterol Total</td>\n",
              "      <td>207</td>\n",
              "      <td>H</td>\n",
              "      <td>&lt; 200</td>\n",
              "    </tr>\n",
              "    <tr>\n",
              "      <th>3</th>\n",
              "      <td>2021-897727</td>\n",
              "      <td>J1-41-231013-00-011</td>\n",
              "      <td>P</td>\n",
              "      <td>45</td>\n",
              "      <td>4</td>\n",
              "      <td>22</td>\n",
              "      <td>2023-10-13 08:00:00</td>\n",
              "      <td>E11.8 - Non-insulin-dependent diabetes mellitu...</td>\n",
              "      <td>153.0</td>\n",
              "      <td>65.0</td>\n",
              "      <td>27.77</td>\n",
              "      <td>Glukosa Puasa</td>\n",
              "      <td>115</td>\n",
              "      <td>N</td>\n",
              "      <td>70 - 125</td>\n",
              "    </tr>\n",
              "    <tr>\n",
              "      <th>4</th>\n",
              "      <td>2021-897727</td>\n",
              "      <td>J1-41-231013-00-011</td>\n",
              "      <td>P</td>\n",
              "      <td>45</td>\n",
              "      <td>4</td>\n",
              "      <td>22</td>\n",
              "      <td>2023-10-13 08:00:00</td>\n",
              "      <td>E11.8 - Non-insulin-dependent diabetes mellitu...</td>\n",
              "      <td>153.0</td>\n",
              "      <td>65.0</td>\n",
              "      <td>27.77</td>\n",
              "      <td>Glukosa 2 Jam PP</td>\n",
              "      <td>212</td>\n",
              "      <td>H</td>\n",
              "      <td>&lt; 140</td>\n",
              "    </tr>\n",
              "  </tbody>\n",
              "</table>\n",
              "</div>\n",
              "    <div class=\"colab-df-buttons\">\n",
              "\n",
              "  <div class=\"colab-df-container\">\n",
              "    <button class=\"colab-df-convert\" onclick=\"convertToInteractive('df-4d2de87f-68a1-4e9e-abb1-651b37fac192')\"\n",
              "            title=\"Convert this dataframe to an interactive table.\"\n",
              "            style=\"display:none;\">\n",
              "\n",
              "  <svg xmlns=\"http://www.w3.org/2000/svg\" height=\"24px\" viewBox=\"0 -960 960 960\">\n",
              "    <path d=\"M120-120v-720h720v720H120Zm60-500h600v-160H180v160Zm220 220h160v-160H400v160Zm0 220h160v-160H400v160ZM180-400h160v-160H180v160Zm440 0h160v-160H620v160ZM180-180h160v-160H180v160Zm440 0h160v-160H620v160Z\"/>\n",
              "  </svg>\n",
              "    </button>\n",
              "\n",
              "  <style>\n",
              "    .colab-df-container {\n",
              "      display:flex;\n",
              "      gap: 12px;\n",
              "    }\n",
              "\n",
              "    .colab-df-convert {\n",
              "      background-color: #E8F0FE;\n",
              "      border: none;\n",
              "      border-radius: 50%;\n",
              "      cursor: pointer;\n",
              "      display: none;\n",
              "      fill: #1967D2;\n",
              "      height: 32px;\n",
              "      padding: 0 0 0 0;\n",
              "      width: 32px;\n",
              "    }\n",
              "\n",
              "    .colab-df-convert:hover {\n",
              "      background-color: #E2EBFA;\n",
              "      box-shadow: 0px 1px 2px rgba(60, 64, 67, 0.3), 0px 1px 3px 1px rgba(60, 64, 67, 0.15);\n",
              "      fill: #174EA6;\n",
              "    }\n",
              "\n",
              "    .colab-df-buttons div {\n",
              "      margin-bottom: 4px;\n",
              "    }\n",
              "\n",
              "    [theme=dark] .colab-df-convert {\n",
              "      background-color: #3B4455;\n",
              "      fill: #D2E3FC;\n",
              "    }\n",
              "\n",
              "    [theme=dark] .colab-df-convert:hover {\n",
              "      background-color: #434B5C;\n",
              "      box-shadow: 0px 1px 3px 1px rgba(0, 0, 0, 0.15);\n",
              "      filter: drop-shadow(0px 1px 2px rgba(0, 0, 0, 0.3));\n",
              "      fill: #FFFFFF;\n",
              "    }\n",
              "  </style>\n",
              "\n",
              "    <script>\n",
              "      const buttonEl =\n",
              "        document.querySelector('#df-4d2de87f-68a1-4e9e-abb1-651b37fac192 button.colab-df-convert');\n",
              "      buttonEl.style.display =\n",
              "        google.colab.kernel.accessAllowed ? 'block' : 'none';\n",
              "\n",
              "      async function convertToInteractive(key) {\n",
              "        const element = document.querySelector('#df-4d2de87f-68a1-4e9e-abb1-651b37fac192');\n",
              "        const dataTable =\n",
              "          await google.colab.kernel.invokeFunction('convertToInteractive',\n",
              "                                                    [key], {});\n",
              "        if (!dataTable) return;\n",
              "\n",
              "        const docLinkHtml = 'Like what you see? Visit the ' +\n",
              "          '<a target=\"_blank\" href=https://colab.research.google.com/notebooks/data_table.ipynb>data table notebook</a>'\n",
              "          + ' to learn more about interactive tables.';\n",
              "        element.innerHTML = '';\n",
              "        dataTable['output_type'] = 'display_data';\n",
              "        await google.colab.output.renderOutput(dataTable, element);\n",
              "        const docLink = document.createElement('div');\n",
              "        docLink.innerHTML = docLinkHtml;\n",
              "        element.appendChild(docLink);\n",
              "      }\n",
              "    </script>\n",
              "  </div>\n",
              "\n",
              "\n",
              "<div id=\"df-21029cbd-8afb-42ec-851c-67050c8778bb\">\n",
              "  <button class=\"colab-df-quickchart\" onclick=\"quickchart('df-21029cbd-8afb-42ec-851c-67050c8778bb')\"\n",
              "            title=\"Suggest charts\"\n",
              "            style=\"display:none;\">\n",
              "\n",
              "<svg xmlns=\"http://www.w3.org/2000/svg\" height=\"24px\"viewBox=\"0 0 24 24\"\n",
              "     width=\"24px\">\n",
              "    <g>\n",
              "        <path d=\"M19 3H5c-1.1 0-2 .9-2 2v14c0 1.1.9 2 2 2h14c1.1 0 2-.9 2-2V5c0-1.1-.9-2-2-2zM9 17H7v-7h2v7zm4 0h-2V7h2v10zm4 0h-2v-4h2v4z\"/>\n",
              "    </g>\n",
              "</svg>\n",
              "  </button>\n",
              "\n",
              "<style>\n",
              "  .colab-df-quickchart {\n",
              "      --bg-color: #E8F0FE;\n",
              "      --fill-color: #1967D2;\n",
              "      --hover-bg-color: #E2EBFA;\n",
              "      --hover-fill-color: #174EA6;\n",
              "      --disabled-fill-color: #AAA;\n",
              "      --disabled-bg-color: #DDD;\n",
              "  }\n",
              "\n",
              "  [theme=dark] .colab-df-quickchart {\n",
              "      --bg-color: #3B4455;\n",
              "      --fill-color: #D2E3FC;\n",
              "      --hover-bg-color: #434B5C;\n",
              "      --hover-fill-color: #FFFFFF;\n",
              "      --disabled-bg-color: #3B4455;\n",
              "      --disabled-fill-color: #666;\n",
              "  }\n",
              "\n",
              "  .colab-df-quickchart {\n",
              "    background-color: var(--bg-color);\n",
              "    border: none;\n",
              "    border-radius: 50%;\n",
              "    cursor: pointer;\n",
              "    display: none;\n",
              "    fill: var(--fill-color);\n",
              "    height: 32px;\n",
              "    padding: 0;\n",
              "    width: 32px;\n",
              "  }\n",
              "\n",
              "  .colab-df-quickchart:hover {\n",
              "    background-color: var(--hover-bg-color);\n",
              "    box-shadow: 0 1px 2px rgba(60, 64, 67, 0.3), 0 1px 3px 1px rgba(60, 64, 67, 0.15);\n",
              "    fill: var(--button-hover-fill-color);\n",
              "  }\n",
              "\n",
              "  .colab-df-quickchart-complete:disabled,\n",
              "  .colab-df-quickchart-complete:disabled:hover {\n",
              "    background-color: var(--disabled-bg-color);\n",
              "    fill: var(--disabled-fill-color);\n",
              "    box-shadow: none;\n",
              "  }\n",
              "\n",
              "  .colab-df-spinner {\n",
              "    border: 2px solid var(--fill-color);\n",
              "    border-color: transparent;\n",
              "    border-bottom-color: var(--fill-color);\n",
              "    animation:\n",
              "      spin 1s steps(1) infinite;\n",
              "  }\n",
              "\n",
              "  @keyframes spin {\n",
              "    0% {\n",
              "      border-color: transparent;\n",
              "      border-bottom-color: var(--fill-color);\n",
              "      border-left-color: var(--fill-color);\n",
              "    }\n",
              "    20% {\n",
              "      border-color: transparent;\n",
              "      border-left-color: var(--fill-color);\n",
              "      border-top-color: var(--fill-color);\n",
              "    }\n",
              "    30% {\n",
              "      border-color: transparent;\n",
              "      border-left-color: var(--fill-color);\n",
              "      border-top-color: var(--fill-color);\n",
              "      border-right-color: var(--fill-color);\n",
              "    }\n",
              "    40% {\n",
              "      border-color: transparent;\n",
              "      border-right-color: var(--fill-color);\n",
              "      border-top-color: var(--fill-color);\n",
              "    }\n",
              "    60% {\n",
              "      border-color: transparent;\n",
              "      border-right-color: var(--fill-color);\n",
              "    }\n",
              "    80% {\n",
              "      border-color: transparent;\n",
              "      border-right-color: var(--fill-color);\n",
              "      border-bottom-color: var(--fill-color);\n",
              "    }\n",
              "    90% {\n",
              "      border-color: transparent;\n",
              "      border-bottom-color: var(--fill-color);\n",
              "    }\n",
              "  }\n",
              "</style>\n",
              "\n",
              "  <script>\n",
              "    async function quickchart(key) {\n",
              "      const quickchartButtonEl =\n",
              "        document.querySelector('#' + key + ' button');\n",
              "      quickchartButtonEl.disabled = true;  // To prevent multiple clicks.\n",
              "      quickchartButtonEl.classList.add('colab-df-spinner');\n",
              "      try {\n",
              "        const charts = await google.colab.kernel.invokeFunction(\n",
              "            'suggestCharts', [key], {});\n",
              "      } catch (error) {\n",
              "        console.error('Error during call to suggestCharts:', error);\n",
              "      }\n",
              "      quickchartButtonEl.classList.remove('colab-df-spinner');\n",
              "      quickchartButtonEl.classList.add('colab-df-quickchart-complete');\n",
              "    }\n",
              "    (() => {\n",
              "      let quickchartButtonEl =\n",
              "        document.querySelector('#df-21029cbd-8afb-42ec-851c-67050c8778bb button');\n",
              "      quickchartButtonEl.style.display =\n",
              "        google.colab.kernel.accessAllowed ? 'block' : 'none';\n",
              "    })();\n",
              "  </script>\n",
              "</div>\n",
              "\n",
              "    </div>\n",
              "  </div>\n"
            ],
            "application/vnd.google.colaboratory.intrinsic+json": {
              "type": "dataframe",
              "variable_name": "df1",
              "summary": "{\n  \"name\": \"df1\",\n  \"rows\": 5544,\n  \"fields\": [\n    {\n      \"column\": \"cm\",\n      \"properties\": {\n        \"dtype\": \"category\",\n        \"num_unique_values\": 1521,\n        \"samples\": [\n          \"2015-644641\",\n          \"2016-730961\",\n          \"2022-933414\"\n        ],\n        \"semantic_type\": \"\",\n        \"description\": \"\"\n      }\n    },\n    {\n      \"column\": \"noreg\",\n      \"properties\": {\n        \"dtype\": \"category\",\n        \"num_unique_values\": 1891,\n        \"samples\": [\n          \"J1-13-240116-00-133\",\n          \"J1-13-240312-00-019\",\n          \"J1-41-231219-00-003\"\n        ],\n        \"semantic_type\": \"\",\n        \"description\": \"\"\n      }\n    },\n    {\n      \"column\": \"gender\",\n      \"properties\": {\n        \"dtype\": \"category\",\n        \"num_unique_values\": 2,\n        \"samples\": [\n          \"L\",\n          \"P\"\n        ],\n        \"semantic_type\": \"\",\n        \"description\": \"\"\n      }\n    },\n    {\n      \"column\": \"usia_tahun\",\n      \"properties\": {\n        \"dtype\": \"number\",\n        \"std\": 11,\n        \"min\": 1,\n        \"max\": 87,\n        \"num_unique_values\": 75,\n        \"samples\": [\n          55,\n          21\n        ],\n        \"semantic_type\": \"\",\n        \"description\": \"\"\n      }\n    },\n    {\n      \"column\": \"usia_bulan\",\n      \"properties\": {\n        \"dtype\": \"number\",\n        \"std\": 3,\n        \"min\": 0,\n        \"max\": 11,\n        \"num_unique_values\": 12,\n        \"samples\": [\n          7,\n          10\n        ],\n        \"semantic_type\": \"\",\n        \"description\": \"\"\n      }\n    },\n    {\n      \"column\": \"usia_hari\",\n      \"properties\": {\n        \"dtype\": \"number\",\n        \"std\": 8,\n        \"min\": 0,\n        \"max\": 29,\n        \"num_unique_values\": 30,\n        \"samples\": [\n          4,\n          17\n        ],\n        \"semantic_type\": \"\",\n        \"description\": \"\"\n      }\n    },\n    {\n      \"column\": \"dtgdaftar\",\n      \"properties\": {\n        \"dtype\": \"date\",\n        \"min\": \"2023-10-12 09:00:00\",\n        \"max\": \"2024-07-12 08:00:00\",\n        \"num_unique_values\": 344,\n        \"samples\": [\n          \"2024-04-25 08:00:00\",\n          \"2024-03-18 09:01:00\"\n        ],\n        \"semantic_type\": \"\",\n        \"description\": \"\"\n      }\n    },\n    {\n      \"column\": \"diagnosa\",\n      \"properties\": {\n        \"dtype\": \"category\",\n        \"num_unique_values\": 118,\n        \"samples\": [\n          \"L02 -\",\n          \"M79.1 -\"\n        ],\n        \"semantic_type\": \"\",\n        \"description\": \"\"\n      }\n    },\n    {\n      \"column\": \"TB\",\n      \"properties\": {\n        \"dtype\": \"number\",\n        \"std\": 60.95673369221163,\n        \"min\": 15.0,\n        \"max\": 1960.0,\n        \"num_unique_values\": 62,\n        \"samples\": [\n          155.1,\n          160.5\n        ],\n        \"semantic_type\": \"\",\n        \"description\": \"\"\n      }\n    },\n    {\n      \"column\": \"BB\",\n      \"properties\": {\n        \"dtype\": \"number\",\n        \"std\": 271.19404036010144,\n        \"min\": 4.0,\n        \"max\": 6501.0,\n        \"num_unique_values\": 345,\n        \"samples\": [\n          54.5,\n          60.3\n        ],\n        \"semantic_type\": \"\",\n        \"description\": \"\"\n      }\n    },\n    {\n      \"column\": \"IMT\",\n      \"properties\": {\n        \"dtype\": \"number\",\n        \"std\": 143.60222589381004,\n        \"min\": 0.18,\n        \"max\": 2551.11,\n        \"num_unique_values\": 787,\n        \"samples\": [\n          18.55,\n          24.03\n        ],\n        \"semantic_type\": \"\",\n        \"description\": \"\"\n      }\n    },\n    {\n      \"column\": \"TEST_NM\",\n      \"properties\": {\n        \"dtype\": \"category\",\n        \"num_unique_values\": 4,\n        \"samples\": [\n          \"Glukosa 2 Jam PP\",\n          \"HbA1C\"\n        ],\n        \"semantic_type\": \"\",\n        \"description\": \"\"\n      }\n    },\n    {\n      \"column\": \"RESULT_VALUE\",\n      \"properties\": {\n        \"dtype\": \"category\",\n        \"num_unique_values\": 537,\n        \"samples\": [\n          5,\n          180\n        ],\n        \"semantic_type\": \"\",\n        \"description\": \"\"\n      }\n    },\n    {\n      \"column\": \"FLAG\",\n      \"properties\": {\n        \"dtype\": \"category\",\n        \"num_unique_values\": 3,\n        \"samples\": [\n          \"H\",\n          \"N\"\n        ],\n        \"semantic_type\": \"\",\n        \"description\": \"\"\n      }\n    },\n    {\n      \"column\": \"REF_RANGE\",\n      \"properties\": {\n        \"dtype\": \"category\",\n        \"num_unique_values\": 5,\n        \"samples\": [\n          \"< 140\",\n          \"60 - 180\"\n        ],\n        \"semantic_type\": \"\",\n        \"description\": \"\"\n      }\n    }\n  ]\n}"
            }
          },
          "metadata": {},
          "execution_count": 50
        }
      ]
    },
    {
      "cell_type": "markdown",
      "source": [
        "## Cleaning Data"
      ],
      "metadata": {
        "id": "r17NaUtAAO4t"
      }
    },
    {
      "cell_type": "markdown",
      "source": [
        "**df1** = data copy dari df dimana pada data ini dilakukan drop beberapa data\n",
        "\n",
        "**pivot** = merupakan data df1 yang dilakukan pivot tabel\n",
        "\n",
        "**df_cleaned** = merupakan data pivot yang telah bebas dari duplikasi dan missing value dan siap digunakan\n",
        "\n",
        "**data_clean** = data hasil cleaning dan pivot yang disimpan ke excel"
      ],
      "metadata": {
        "id": "rT5oL05mi6yV"
      }
    },
    {
      "cell_type": "code",
      "source": [
        "# Contoh penghapusan baris dengan kriteria tertentu\n",
        "df1 = df1.drop(df1[df1['diagnosa'].isin(('E10 - Insulin-dependent diabetes mellitus',\n",
        "                                         'E10.1 - Insulin-dependent diabetes mellitus with ketoacidosis',\n",
        "                                         'E10.2 - Insulin-dependent diabetes mellitus with renal com',\n",
        "                                         'E10.3 - Insulin-dependent diabetes mellitus with ophthalmic complications',\n",
        "                                         'E10.4 - Insulin-dependent diabetes mellitus with neurological complications',\n",
        "                                         'E10.5 - Insulin dependent diabetes mellitus with gangrene',\n",
        "                                         'E10.6 - Insulin-dependent diabetes mellitus with other specified complications',\n",
        "                                         'E10.8 - Insulin-dependent diabetes mellitus with unspecified complications'\n",
        "                                         ))].index)\n",
        "\n",
        "df1.head()"
      ],
      "metadata": {
        "colab": {
          "base_uri": "https://localhost:8080/",
          "height": 553
        },
        "id": "uL-SsXXhpsD0",
        "outputId": "7cca827c-1458-48d4-c0da-35d7aae0d155"
      },
      "execution_count": 51,
      "outputs": [
        {
          "output_type": "execute_result",
          "data": {
            "text/plain": [
              "            cm                noreg gender  usia_tahun  usia_bulan  usia_hari  \\\n",
              "2  2021-897727  J1-41-231013-00-011      P          45           4         22   \n",
              "3  2021-897727  J1-41-231013-00-011      P          45           4         22   \n",
              "4  2021-897727  J1-41-231013-00-011      P          45           4         22   \n",
              "5  2021-897727  J1-41-231013-00-011      P          45           4         22   \n",
              "6  2019-838120  J1-41-231016-00-005      P          26           1         27   \n",
              "\n",
              "            dtgdaftar                                           diagnosa  \\\n",
              "2 2023-10-13 08:00:00  E11.8 - Non-insulin-dependent diabetes mellitu...   \n",
              "3 2023-10-13 08:00:00  E11.8 - Non-insulin-dependent diabetes mellitu...   \n",
              "4 2023-10-13 08:00:00  E11.8 - Non-insulin-dependent diabetes mellitu...   \n",
              "5 2023-10-13 08:00:00  E11.8 - Non-insulin-dependent diabetes mellitu...   \n",
              "6 2023-10-16 08:00:00      E10.9 - Diabetes melitus without complication   \n",
              "\n",
              "      TB    BB    IMT           TEST_NM RESULT_VALUE FLAG  REF_RANGE  \n",
              "2  153.0  65.0  27.77  Kolesterol Total          207    H      < 200  \n",
              "3  153.0  65.0  27.77     Glukosa Puasa          115    N   70 - 125  \n",
              "4  153.0  65.0  27.77  Glukosa 2 Jam PP          212    H      < 140  \n",
              "5  153.0  65.0  27.77             HbA1C          8.5    H  4.0 - 6.5  \n",
              "6  150.0  49.0  21.78     Glukosa Puasa          131    H   70 - 125  "
            ],
            "text/html": [
              "\n",
              "  <div id=\"df-56701cbf-af54-4813-8e27-1afa406eee44\" class=\"colab-df-container\">\n",
              "    <div>\n",
              "<style scoped>\n",
              "    .dataframe tbody tr th:only-of-type {\n",
              "        vertical-align: middle;\n",
              "    }\n",
              "\n",
              "    .dataframe tbody tr th {\n",
              "        vertical-align: top;\n",
              "    }\n",
              "\n",
              "    .dataframe thead th {\n",
              "        text-align: right;\n",
              "    }\n",
              "</style>\n",
              "<table border=\"1\" class=\"dataframe\">\n",
              "  <thead>\n",
              "    <tr style=\"text-align: right;\">\n",
              "      <th></th>\n",
              "      <th>cm</th>\n",
              "      <th>noreg</th>\n",
              "      <th>gender</th>\n",
              "      <th>usia_tahun</th>\n",
              "      <th>usia_bulan</th>\n",
              "      <th>usia_hari</th>\n",
              "      <th>dtgdaftar</th>\n",
              "      <th>diagnosa</th>\n",
              "      <th>TB</th>\n",
              "      <th>BB</th>\n",
              "      <th>IMT</th>\n",
              "      <th>TEST_NM</th>\n",
              "      <th>RESULT_VALUE</th>\n",
              "      <th>FLAG</th>\n",
              "      <th>REF_RANGE</th>\n",
              "    </tr>\n",
              "  </thead>\n",
              "  <tbody>\n",
              "    <tr>\n",
              "      <th>2</th>\n",
              "      <td>2021-897727</td>\n",
              "      <td>J1-41-231013-00-011</td>\n",
              "      <td>P</td>\n",
              "      <td>45</td>\n",
              "      <td>4</td>\n",
              "      <td>22</td>\n",
              "      <td>2023-10-13 08:00:00</td>\n",
              "      <td>E11.8 - Non-insulin-dependent diabetes mellitu...</td>\n",
              "      <td>153.0</td>\n",
              "      <td>65.0</td>\n",
              "      <td>27.77</td>\n",
              "      <td>Kolesterol Total</td>\n",
              "      <td>207</td>\n",
              "      <td>H</td>\n",
              "      <td>&lt; 200</td>\n",
              "    </tr>\n",
              "    <tr>\n",
              "      <th>3</th>\n",
              "      <td>2021-897727</td>\n",
              "      <td>J1-41-231013-00-011</td>\n",
              "      <td>P</td>\n",
              "      <td>45</td>\n",
              "      <td>4</td>\n",
              "      <td>22</td>\n",
              "      <td>2023-10-13 08:00:00</td>\n",
              "      <td>E11.8 - Non-insulin-dependent diabetes mellitu...</td>\n",
              "      <td>153.0</td>\n",
              "      <td>65.0</td>\n",
              "      <td>27.77</td>\n",
              "      <td>Glukosa Puasa</td>\n",
              "      <td>115</td>\n",
              "      <td>N</td>\n",
              "      <td>70 - 125</td>\n",
              "    </tr>\n",
              "    <tr>\n",
              "      <th>4</th>\n",
              "      <td>2021-897727</td>\n",
              "      <td>J1-41-231013-00-011</td>\n",
              "      <td>P</td>\n",
              "      <td>45</td>\n",
              "      <td>4</td>\n",
              "      <td>22</td>\n",
              "      <td>2023-10-13 08:00:00</td>\n",
              "      <td>E11.8 - Non-insulin-dependent diabetes mellitu...</td>\n",
              "      <td>153.0</td>\n",
              "      <td>65.0</td>\n",
              "      <td>27.77</td>\n",
              "      <td>Glukosa 2 Jam PP</td>\n",
              "      <td>212</td>\n",
              "      <td>H</td>\n",
              "      <td>&lt; 140</td>\n",
              "    </tr>\n",
              "    <tr>\n",
              "      <th>5</th>\n",
              "      <td>2021-897727</td>\n",
              "      <td>J1-41-231013-00-011</td>\n",
              "      <td>P</td>\n",
              "      <td>45</td>\n",
              "      <td>4</td>\n",
              "      <td>22</td>\n",
              "      <td>2023-10-13 08:00:00</td>\n",
              "      <td>E11.8 - Non-insulin-dependent diabetes mellitu...</td>\n",
              "      <td>153.0</td>\n",
              "      <td>65.0</td>\n",
              "      <td>27.77</td>\n",
              "      <td>HbA1C</td>\n",
              "      <td>8.5</td>\n",
              "      <td>H</td>\n",
              "      <td>4.0 - 6.5</td>\n",
              "    </tr>\n",
              "    <tr>\n",
              "      <th>6</th>\n",
              "      <td>2019-838120</td>\n",
              "      <td>J1-41-231016-00-005</td>\n",
              "      <td>P</td>\n",
              "      <td>26</td>\n",
              "      <td>1</td>\n",
              "      <td>27</td>\n",
              "      <td>2023-10-16 08:00:00</td>\n",
              "      <td>E10.9 - Diabetes melitus without complication</td>\n",
              "      <td>150.0</td>\n",
              "      <td>49.0</td>\n",
              "      <td>21.78</td>\n",
              "      <td>Glukosa Puasa</td>\n",
              "      <td>131</td>\n",
              "      <td>H</td>\n",
              "      <td>70 - 125</td>\n",
              "    </tr>\n",
              "  </tbody>\n",
              "</table>\n",
              "</div>\n",
              "    <div class=\"colab-df-buttons\">\n",
              "\n",
              "  <div class=\"colab-df-container\">\n",
              "    <button class=\"colab-df-convert\" onclick=\"convertToInteractive('df-56701cbf-af54-4813-8e27-1afa406eee44')\"\n",
              "            title=\"Convert this dataframe to an interactive table.\"\n",
              "            style=\"display:none;\">\n",
              "\n",
              "  <svg xmlns=\"http://www.w3.org/2000/svg\" height=\"24px\" viewBox=\"0 -960 960 960\">\n",
              "    <path d=\"M120-120v-720h720v720H120Zm60-500h600v-160H180v160Zm220 220h160v-160H400v160Zm0 220h160v-160H400v160ZM180-400h160v-160H180v160Zm440 0h160v-160H620v160ZM180-180h160v-160H180v160Zm440 0h160v-160H620v160Z\"/>\n",
              "  </svg>\n",
              "    </button>\n",
              "\n",
              "  <style>\n",
              "    .colab-df-container {\n",
              "      display:flex;\n",
              "      gap: 12px;\n",
              "    }\n",
              "\n",
              "    .colab-df-convert {\n",
              "      background-color: #E8F0FE;\n",
              "      border: none;\n",
              "      border-radius: 50%;\n",
              "      cursor: pointer;\n",
              "      display: none;\n",
              "      fill: #1967D2;\n",
              "      height: 32px;\n",
              "      padding: 0 0 0 0;\n",
              "      width: 32px;\n",
              "    }\n",
              "\n",
              "    .colab-df-convert:hover {\n",
              "      background-color: #E2EBFA;\n",
              "      box-shadow: 0px 1px 2px rgba(60, 64, 67, 0.3), 0px 1px 3px 1px rgba(60, 64, 67, 0.15);\n",
              "      fill: #174EA6;\n",
              "    }\n",
              "\n",
              "    .colab-df-buttons div {\n",
              "      margin-bottom: 4px;\n",
              "    }\n",
              "\n",
              "    [theme=dark] .colab-df-convert {\n",
              "      background-color: #3B4455;\n",
              "      fill: #D2E3FC;\n",
              "    }\n",
              "\n",
              "    [theme=dark] .colab-df-convert:hover {\n",
              "      background-color: #434B5C;\n",
              "      box-shadow: 0px 1px 3px 1px rgba(0, 0, 0, 0.15);\n",
              "      filter: drop-shadow(0px 1px 2px rgba(0, 0, 0, 0.3));\n",
              "      fill: #FFFFFF;\n",
              "    }\n",
              "  </style>\n",
              "\n",
              "    <script>\n",
              "      const buttonEl =\n",
              "        document.querySelector('#df-56701cbf-af54-4813-8e27-1afa406eee44 button.colab-df-convert');\n",
              "      buttonEl.style.display =\n",
              "        google.colab.kernel.accessAllowed ? 'block' : 'none';\n",
              "\n",
              "      async function convertToInteractive(key) {\n",
              "        const element = document.querySelector('#df-56701cbf-af54-4813-8e27-1afa406eee44');\n",
              "        const dataTable =\n",
              "          await google.colab.kernel.invokeFunction('convertToInteractive',\n",
              "                                                    [key], {});\n",
              "        if (!dataTable) return;\n",
              "\n",
              "        const docLinkHtml = 'Like what you see? Visit the ' +\n",
              "          '<a target=\"_blank\" href=https://colab.research.google.com/notebooks/data_table.ipynb>data table notebook</a>'\n",
              "          + ' to learn more about interactive tables.';\n",
              "        element.innerHTML = '';\n",
              "        dataTable['output_type'] = 'display_data';\n",
              "        await google.colab.output.renderOutput(dataTable, element);\n",
              "        const docLink = document.createElement('div');\n",
              "        docLink.innerHTML = docLinkHtml;\n",
              "        element.appendChild(docLink);\n",
              "      }\n",
              "    </script>\n",
              "  </div>\n",
              "\n",
              "\n",
              "<div id=\"df-d695385c-987c-4882-8b96-898a98009ae2\">\n",
              "  <button class=\"colab-df-quickchart\" onclick=\"quickchart('df-d695385c-987c-4882-8b96-898a98009ae2')\"\n",
              "            title=\"Suggest charts\"\n",
              "            style=\"display:none;\">\n",
              "\n",
              "<svg xmlns=\"http://www.w3.org/2000/svg\" height=\"24px\"viewBox=\"0 0 24 24\"\n",
              "     width=\"24px\">\n",
              "    <g>\n",
              "        <path d=\"M19 3H5c-1.1 0-2 .9-2 2v14c0 1.1.9 2 2 2h14c1.1 0 2-.9 2-2V5c0-1.1-.9-2-2-2zM9 17H7v-7h2v7zm4 0h-2V7h2v10zm4 0h-2v-4h2v4z\"/>\n",
              "    </g>\n",
              "</svg>\n",
              "  </button>\n",
              "\n",
              "<style>\n",
              "  .colab-df-quickchart {\n",
              "      --bg-color: #E8F0FE;\n",
              "      --fill-color: #1967D2;\n",
              "      --hover-bg-color: #E2EBFA;\n",
              "      --hover-fill-color: #174EA6;\n",
              "      --disabled-fill-color: #AAA;\n",
              "      --disabled-bg-color: #DDD;\n",
              "  }\n",
              "\n",
              "  [theme=dark] .colab-df-quickchart {\n",
              "      --bg-color: #3B4455;\n",
              "      --fill-color: #D2E3FC;\n",
              "      --hover-bg-color: #434B5C;\n",
              "      --hover-fill-color: #FFFFFF;\n",
              "      --disabled-bg-color: #3B4455;\n",
              "      --disabled-fill-color: #666;\n",
              "  }\n",
              "\n",
              "  .colab-df-quickchart {\n",
              "    background-color: var(--bg-color);\n",
              "    border: none;\n",
              "    border-radius: 50%;\n",
              "    cursor: pointer;\n",
              "    display: none;\n",
              "    fill: var(--fill-color);\n",
              "    height: 32px;\n",
              "    padding: 0;\n",
              "    width: 32px;\n",
              "  }\n",
              "\n",
              "  .colab-df-quickchart:hover {\n",
              "    background-color: var(--hover-bg-color);\n",
              "    box-shadow: 0 1px 2px rgba(60, 64, 67, 0.3), 0 1px 3px 1px rgba(60, 64, 67, 0.15);\n",
              "    fill: var(--button-hover-fill-color);\n",
              "  }\n",
              "\n",
              "  .colab-df-quickchart-complete:disabled,\n",
              "  .colab-df-quickchart-complete:disabled:hover {\n",
              "    background-color: var(--disabled-bg-color);\n",
              "    fill: var(--disabled-fill-color);\n",
              "    box-shadow: none;\n",
              "  }\n",
              "\n",
              "  .colab-df-spinner {\n",
              "    border: 2px solid var(--fill-color);\n",
              "    border-color: transparent;\n",
              "    border-bottom-color: var(--fill-color);\n",
              "    animation:\n",
              "      spin 1s steps(1) infinite;\n",
              "  }\n",
              "\n",
              "  @keyframes spin {\n",
              "    0% {\n",
              "      border-color: transparent;\n",
              "      border-bottom-color: var(--fill-color);\n",
              "      border-left-color: var(--fill-color);\n",
              "    }\n",
              "    20% {\n",
              "      border-color: transparent;\n",
              "      border-left-color: var(--fill-color);\n",
              "      border-top-color: var(--fill-color);\n",
              "    }\n",
              "    30% {\n",
              "      border-color: transparent;\n",
              "      border-left-color: var(--fill-color);\n",
              "      border-top-color: var(--fill-color);\n",
              "      border-right-color: var(--fill-color);\n",
              "    }\n",
              "    40% {\n",
              "      border-color: transparent;\n",
              "      border-right-color: var(--fill-color);\n",
              "      border-top-color: var(--fill-color);\n",
              "    }\n",
              "    60% {\n",
              "      border-color: transparent;\n",
              "      border-right-color: var(--fill-color);\n",
              "    }\n",
              "    80% {\n",
              "      border-color: transparent;\n",
              "      border-right-color: var(--fill-color);\n",
              "      border-bottom-color: var(--fill-color);\n",
              "    }\n",
              "    90% {\n",
              "      border-color: transparent;\n",
              "      border-bottom-color: var(--fill-color);\n",
              "    }\n",
              "  }\n",
              "</style>\n",
              "\n",
              "  <script>\n",
              "    async function quickchart(key) {\n",
              "      const quickchartButtonEl =\n",
              "        document.querySelector('#' + key + ' button');\n",
              "      quickchartButtonEl.disabled = true;  // To prevent multiple clicks.\n",
              "      quickchartButtonEl.classList.add('colab-df-spinner');\n",
              "      try {\n",
              "        const charts = await google.colab.kernel.invokeFunction(\n",
              "            'suggestCharts', [key], {});\n",
              "      } catch (error) {\n",
              "        console.error('Error during call to suggestCharts:', error);\n",
              "      }\n",
              "      quickchartButtonEl.classList.remove('colab-df-spinner');\n",
              "      quickchartButtonEl.classList.add('colab-df-quickchart-complete');\n",
              "    }\n",
              "    (() => {\n",
              "      let quickchartButtonEl =\n",
              "        document.querySelector('#df-d695385c-987c-4882-8b96-898a98009ae2 button');\n",
              "      quickchartButtonEl.style.display =\n",
              "        google.colab.kernel.accessAllowed ? 'block' : 'none';\n",
              "    })();\n",
              "  </script>\n",
              "</div>\n",
              "\n",
              "    </div>\n",
              "  </div>\n"
            ],
            "application/vnd.google.colaboratory.intrinsic+json": {
              "type": "dataframe",
              "variable_name": "df1",
              "summary": "{\n  \"name\": \"df1\",\n  \"rows\": 3401,\n  \"fields\": [\n    {\n      \"column\": \"cm\",\n      \"properties\": {\n        \"dtype\": \"category\",\n        \"num_unique_values\": 1129,\n        \"samples\": [\n          \"0000016989\",\n          \"2017-784683\",\n          \"0000021365\"\n        ],\n        \"semantic_type\": \"\",\n        \"description\": \"\"\n      }\n    },\n    {\n      \"column\": \"noreg\",\n      \"properties\": {\n        \"dtype\": \"category\",\n        \"num_unique_values\": 1309,\n        \"samples\": [\n          \"J1-13-240115-00-142\",\n          \"J1-13-240112-00-126\",\n          \"J1-13-240108-00-046\"\n        ],\n        \"semantic_type\": \"\",\n        \"description\": \"\"\n      }\n    },\n    {\n      \"column\": \"gender\",\n      \"properties\": {\n        \"dtype\": \"category\",\n        \"num_unique_values\": 2,\n        \"samples\": [\n          \"L\",\n          \"P\"\n        ],\n        \"semantic_type\": \"\",\n        \"description\": \"\"\n      }\n    },\n    {\n      \"column\": \"usia_tahun\",\n      \"properties\": {\n        \"dtype\": \"number\",\n        \"std\": 11,\n        \"min\": 1,\n        \"max\": 87,\n        \"num_unique_values\": 73,\n        \"samples\": [\n          43,\n          40\n        ],\n        \"semantic_type\": \"\",\n        \"description\": \"\"\n      }\n    },\n    {\n      \"column\": \"usia_bulan\",\n      \"properties\": {\n        \"dtype\": \"number\",\n        \"std\": 3,\n        \"min\": 0,\n        \"max\": 11,\n        \"num_unique_values\": 12,\n        \"samples\": [\n          7,\n          11\n        ],\n        \"semantic_type\": \"\",\n        \"description\": \"\"\n      }\n    },\n    {\n      \"column\": \"usia_hari\",\n      \"properties\": {\n        \"dtype\": \"number\",\n        \"std\": 8,\n        \"min\": 0,\n        \"max\": 29,\n        \"num_unique_values\": 30,\n        \"samples\": [\n          16,\n          24\n        ],\n        \"semantic_type\": \"\",\n        \"description\": \"\"\n      }\n    },\n    {\n      \"column\": \"dtgdaftar\",\n      \"properties\": {\n        \"dtype\": \"date\",\n        \"min\": \"2023-10-13 08:00:00\",\n        \"max\": \"2024-07-12 08:00:00\",\n        \"num_unique_values\": 272,\n        \"samples\": [\n          \"2023-12-04 08:00:00\",\n          \"2024-03-20 09:00:00\"\n        ],\n        \"semantic_type\": \"\",\n        \"description\": \"\"\n      }\n    },\n    {\n      \"column\": \"diagnosa\",\n      \"properties\": {\n        \"dtype\": \"category\",\n        \"num_unique_values\": 110,\n        \"samples\": [\n          \"D64 -\",\n          \"E11.6 - Non-insulin-dependent diabetes mellitus with other specified complications\"\n        ],\n        \"semantic_type\": \"\",\n        \"description\": \"\"\n      }\n    },\n    {\n      \"column\": \"TB\",\n      \"properties\": {\n        \"dtype\": \"number\",\n        \"std\": 69.5796285227981,\n        \"min\": 15.0,\n        \"max\": 1960.0,\n        \"num_unique_values\": 51,\n        \"samples\": [\n          175.0,\n          164.0\n        ],\n        \"semantic_type\": \"\",\n        \"description\": \"\"\n      }\n    },\n    {\n      \"column\": \"BB\",\n      \"properties\": {\n        \"dtype\": \"number\",\n        \"std\": 264.2853513938397,\n        \"min\": 4.0,\n        \"max\": 6501.0,\n        \"num_unique_values\": 295,\n        \"samples\": [\n          46.3,\n          55.5\n        ],\n        \"semantic_type\": \"\",\n        \"description\": \"\"\n      }\n    },\n    {\n      \"column\": \"IMT\",\n      \"properties\": {\n        \"dtype\": \"number\",\n        \"std\": 162.60311945212953,\n        \"min\": 0.18,\n        \"max\": 2551.11,\n        \"num_unique_values\": 645,\n        \"samples\": [\n          23.2,\n          19.43\n        ],\n        \"semantic_type\": \"\",\n        \"description\": \"\"\n      }\n    },\n    {\n      \"column\": \"TEST_NM\",\n      \"properties\": {\n        \"dtype\": \"category\",\n        \"num_unique_values\": 4,\n        \"samples\": [\n          \"Glukosa Puasa\",\n          \"HbA1C\"\n        ],\n        \"semantic_type\": \"\",\n        \"description\": \"\"\n      }\n    },\n    {\n      \"column\": \"RESULT_VALUE\",\n      \"properties\": {\n        \"dtype\": \"category\",\n        \"num_unique_values\": 481,\n        \"samples\": [\n          233,\n          359\n        ],\n        \"semantic_type\": \"\",\n        \"description\": \"\"\n      }\n    },\n    {\n      \"column\": \"FLAG\",\n      \"properties\": {\n        \"dtype\": \"category\",\n        \"num_unique_values\": 3,\n        \"samples\": [\n          \"H\",\n          \"N\"\n        ],\n        \"semantic_type\": \"\",\n        \"description\": \"\"\n      }\n    },\n    {\n      \"column\": \"REF_RANGE\",\n      \"properties\": {\n        \"dtype\": \"category\",\n        \"num_unique_values\": 5,\n        \"samples\": [\n          \"70 - 125\",\n          \"60 - 180\"\n        ],\n        \"semantic_type\": \"\",\n        \"description\": \"\"\n      }\n    }\n  ]\n}"
            }
          },
          "metadata": {},
          "execution_count": 51
        }
      ]
    },
    {
      "cell_type": "code",
      "source": [
        "print(len(df1))\n",
        "df1.info()"
      ],
      "metadata": {
        "colab": {
          "base_uri": "https://localhost:8080/"
        },
        "id": "Krmbid-vkRnL",
        "outputId": "114bdfb2-e3c2-4beb-e3db-e43af11dfd3d"
      },
      "execution_count": 52,
      "outputs": [
        {
          "output_type": "stream",
          "name": "stdout",
          "text": [
            "3401\n",
            "<class 'pandas.core.frame.DataFrame'>\n",
            "Index: 3401 entries, 2 to 5543\n",
            "Data columns (total 15 columns):\n",
            " #   Column        Non-Null Count  Dtype         \n",
            "---  ------        --------------  -----         \n",
            " 0   cm            3401 non-null   object        \n",
            " 1   noreg         3401 non-null   object        \n",
            " 2   gender        3401 non-null   object        \n",
            " 3   usia_tahun    3401 non-null   int64         \n",
            " 4   usia_bulan    3401 non-null   int64         \n",
            " 5   usia_hari     3401 non-null   int64         \n",
            " 6   dtgdaftar     3401 non-null   datetime64[ns]\n",
            " 7   diagnosa      3401 non-null   object        \n",
            " 8   TB            3277 non-null   float64       \n",
            " 9   BB            3277 non-null   float64       \n",
            " 10  IMT           3277 non-null   float64       \n",
            " 11  TEST_NM       3401 non-null   object        \n",
            " 12  RESULT_VALUE  3401 non-null   object        \n",
            " 13  FLAG          3328 non-null   object        \n",
            " 14  REF_RANGE     3401 non-null   object        \n",
            "dtypes: datetime64[ns](1), float64(3), int64(3), object(8)\n",
            "memory usage: 425.1+ KB\n"
          ]
        }
      ]
    },
    {
      "cell_type": "markdown",
      "source": [
        "### Pivot Data"
      ],
      "metadata": {
        "id": "roliW5kNXXrP"
      }
    },
    {
      "cell_type": "code",
      "source": [
        "# Menambahkan kolom kolesterol total, Gula darah puasa, Gula darah 2 jam setelah makan, HbA1C\n",
        "# Memindahkan data hasil lab per pasien ke kolom yang baru dibuat\n",
        "pivot = df1.pivot_table(index = [\"cm\", \"gender\", \"usia_tahun\", \"IMT\"],\n",
        "    values = \"RESULT_VALUE\",\n",
        "    columns = \"TEST_NM\",\n",
        "    aggfunc='first').reset_index()\n",
        "\n",
        "# Menampilkan hasil akhir\n",
        "pivot.head()"
      ],
      "metadata": {
        "colab": {
          "base_uri": "https://localhost:8080/",
          "height": 206
        },
        "id": "IpWhEM5xX-H8",
        "outputId": "bf93dc81-6db8-4a31-941d-0bef6b0d435b"
      },
      "execution_count": 53,
      "outputs": [
        {
          "output_type": "execute_result",
          "data": {
            "text/plain": [
              "TEST_NM          cm gender  usia_tahun    IMT Glukosa 2 Jam PP Glukosa Puasa  \\\n",
              "0        0000000248      L          58  17.93              NaN            92   \n",
              "1        0000000329      L          60  25.71              275           167   \n",
              "2        0000000444      P          65  24.84              151           126   \n",
              "3        0000000534      L          54  29.07              376           218   \n",
              "4        0000000881      P          62  31.22              NaN           NaN   \n",
              "\n",
              "TEST_NM HbA1C Kolesterol Total  \n",
              "0         NaN              164  \n",
              "1         NaN              NaN  \n",
              "2         5.9              NaN  \n",
              "3         NaN              NaN  \n",
              "4         NaN              218  "
            ],
            "text/html": [
              "\n",
              "  <div id=\"df-30575f8e-2cc2-49f1-864a-d36588c360e6\" class=\"colab-df-container\">\n",
              "    <div>\n",
              "<style scoped>\n",
              "    .dataframe tbody tr th:only-of-type {\n",
              "        vertical-align: middle;\n",
              "    }\n",
              "\n",
              "    .dataframe tbody tr th {\n",
              "        vertical-align: top;\n",
              "    }\n",
              "\n",
              "    .dataframe thead th {\n",
              "        text-align: right;\n",
              "    }\n",
              "</style>\n",
              "<table border=\"1\" class=\"dataframe\">\n",
              "  <thead>\n",
              "    <tr style=\"text-align: right;\">\n",
              "      <th>TEST_NM</th>\n",
              "      <th>cm</th>\n",
              "      <th>gender</th>\n",
              "      <th>usia_tahun</th>\n",
              "      <th>IMT</th>\n",
              "      <th>Glukosa 2 Jam PP</th>\n",
              "      <th>Glukosa Puasa</th>\n",
              "      <th>HbA1C</th>\n",
              "      <th>Kolesterol Total</th>\n",
              "    </tr>\n",
              "  </thead>\n",
              "  <tbody>\n",
              "    <tr>\n",
              "      <th>0</th>\n",
              "      <td>0000000248</td>\n",
              "      <td>L</td>\n",
              "      <td>58</td>\n",
              "      <td>17.93</td>\n",
              "      <td>NaN</td>\n",
              "      <td>92</td>\n",
              "      <td>NaN</td>\n",
              "      <td>164</td>\n",
              "    </tr>\n",
              "    <tr>\n",
              "      <th>1</th>\n",
              "      <td>0000000329</td>\n",
              "      <td>L</td>\n",
              "      <td>60</td>\n",
              "      <td>25.71</td>\n",
              "      <td>275</td>\n",
              "      <td>167</td>\n",
              "      <td>NaN</td>\n",
              "      <td>NaN</td>\n",
              "    </tr>\n",
              "    <tr>\n",
              "      <th>2</th>\n",
              "      <td>0000000444</td>\n",
              "      <td>P</td>\n",
              "      <td>65</td>\n",
              "      <td>24.84</td>\n",
              "      <td>151</td>\n",
              "      <td>126</td>\n",
              "      <td>5.9</td>\n",
              "      <td>NaN</td>\n",
              "    </tr>\n",
              "    <tr>\n",
              "      <th>3</th>\n",
              "      <td>0000000534</td>\n",
              "      <td>L</td>\n",
              "      <td>54</td>\n",
              "      <td>29.07</td>\n",
              "      <td>376</td>\n",
              "      <td>218</td>\n",
              "      <td>NaN</td>\n",
              "      <td>NaN</td>\n",
              "    </tr>\n",
              "    <tr>\n",
              "      <th>4</th>\n",
              "      <td>0000000881</td>\n",
              "      <td>P</td>\n",
              "      <td>62</td>\n",
              "      <td>31.22</td>\n",
              "      <td>NaN</td>\n",
              "      <td>NaN</td>\n",
              "      <td>NaN</td>\n",
              "      <td>218</td>\n",
              "    </tr>\n",
              "  </tbody>\n",
              "</table>\n",
              "</div>\n",
              "    <div class=\"colab-df-buttons\">\n",
              "\n",
              "  <div class=\"colab-df-container\">\n",
              "    <button class=\"colab-df-convert\" onclick=\"convertToInteractive('df-30575f8e-2cc2-49f1-864a-d36588c360e6')\"\n",
              "            title=\"Convert this dataframe to an interactive table.\"\n",
              "            style=\"display:none;\">\n",
              "\n",
              "  <svg xmlns=\"http://www.w3.org/2000/svg\" height=\"24px\" viewBox=\"0 -960 960 960\">\n",
              "    <path d=\"M120-120v-720h720v720H120Zm60-500h600v-160H180v160Zm220 220h160v-160H400v160Zm0 220h160v-160H400v160ZM180-400h160v-160H180v160Zm440 0h160v-160H620v160ZM180-180h160v-160H180v160Zm440 0h160v-160H620v160Z\"/>\n",
              "  </svg>\n",
              "    </button>\n",
              "\n",
              "  <style>\n",
              "    .colab-df-container {\n",
              "      display:flex;\n",
              "      gap: 12px;\n",
              "    }\n",
              "\n",
              "    .colab-df-convert {\n",
              "      background-color: #E8F0FE;\n",
              "      border: none;\n",
              "      border-radius: 50%;\n",
              "      cursor: pointer;\n",
              "      display: none;\n",
              "      fill: #1967D2;\n",
              "      height: 32px;\n",
              "      padding: 0 0 0 0;\n",
              "      width: 32px;\n",
              "    }\n",
              "\n",
              "    .colab-df-convert:hover {\n",
              "      background-color: #E2EBFA;\n",
              "      box-shadow: 0px 1px 2px rgba(60, 64, 67, 0.3), 0px 1px 3px 1px rgba(60, 64, 67, 0.15);\n",
              "      fill: #174EA6;\n",
              "    }\n",
              "\n",
              "    .colab-df-buttons div {\n",
              "      margin-bottom: 4px;\n",
              "    }\n",
              "\n",
              "    [theme=dark] .colab-df-convert {\n",
              "      background-color: #3B4455;\n",
              "      fill: #D2E3FC;\n",
              "    }\n",
              "\n",
              "    [theme=dark] .colab-df-convert:hover {\n",
              "      background-color: #434B5C;\n",
              "      box-shadow: 0px 1px 3px 1px rgba(0, 0, 0, 0.15);\n",
              "      filter: drop-shadow(0px 1px 2px rgba(0, 0, 0, 0.3));\n",
              "      fill: #FFFFFF;\n",
              "    }\n",
              "  </style>\n",
              "\n",
              "    <script>\n",
              "      const buttonEl =\n",
              "        document.querySelector('#df-30575f8e-2cc2-49f1-864a-d36588c360e6 button.colab-df-convert');\n",
              "      buttonEl.style.display =\n",
              "        google.colab.kernel.accessAllowed ? 'block' : 'none';\n",
              "\n",
              "      async function convertToInteractive(key) {\n",
              "        const element = document.querySelector('#df-30575f8e-2cc2-49f1-864a-d36588c360e6');\n",
              "        const dataTable =\n",
              "          await google.colab.kernel.invokeFunction('convertToInteractive',\n",
              "                                                    [key], {});\n",
              "        if (!dataTable) return;\n",
              "\n",
              "        const docLinkHtml = 'Like what you see? Visit the ' +\n",
              "          '<a target=\"_blank\" href=https://colab.research.google.com/notebooks/data_table.ipynb>data table notebook</a>'\n",
              "          + ' to learn more about interactive tables.';\n",
              "        element.innerHTML = '';\n",
              "        dataTable['output_type'] = 'display_data';\n",
              "        await google.colab.output.renderOutput(dataTable, element);\n",
              "        const docLink = document.createElement('div');\n",
              "        docLink.innerHTML = docLinkHtml;\n",
              "        element.appendChild(docLink);\n",
              "      }\n",
              "    </script>\n",
              "  </div>\n",
              "\n",
              "\n",
              "<div id=\"df-93c5e8c2-8924-4253-8e51-9daf43817207\">\n",
              "  <button class=\"colab-df-quickchart\" onclick=\"quickchart('df-93c5e8c2-8924-4253-8e51-9daf43817207')\"\n",
              "            title=\"Suggest charts\"\n",
              "            style=\"display:none;\">\n",
              "\n",
              "<svg xmlns=\"http://www.w3.org/2000/svg\" height=\"24px\"viewBox=\"0 0 24 24\"\n",
              "     width=\"24px\">\n",
              "    <g>\n",
              "        <path d=\"M19 3H5c-1.1 0-2 .9-2 2v14c0 1.1.9 2 2 2h14c1.1 0 2-.9 2-2V5c0-1.1-.9-2-2-2zM9 17H7v-7h2v7zm4 0h-2V7h2v10zm4 0h-2v-4h2v4z\"/>\n",
              "    </g>\n",
              "</svg>\n",
              "  </button>\n",
              "\n",
              "<style>\n",
              "  .colab-df-quickchart {\n",
              "      --bg-color: #E8F0FE;\n",
              "      --fill-color: #1967D2;\n",
              "      --hover-bg-color: #E2EBFA;\n",
              "      --hover-fill-color: #174EA6;\n",
              "      --disabled-fill-color: #AAA;\n",
              "      --disabled-bg-color: #DDD;\n",
              "  }\n",
              "\n",
              "  [theme=dark] .colab-df-quickchart {\n",
              "      --bg-color: #3B4455;\n",
              "      --fill-color: #D2E3FC;\n",
              "      --hover-bg-color: #434B5C;\n",
              "      --hover-fill-color: #FFFFFF;\n",
              "      --disabled-bg-color: #3B4455;\n",
              "      --disabled-fill-color: #666;\n",
              "  }\n",
              "\n",
              "  .colab-df-quickchart {\n",
              "    background-color: var(--bg-color);\n",
              "    border: none;\n",
              "    border-radius: 50%;\n",
              "    cursor: pointer;\n",
              "    display: none;\n",
              "    fill: var(--fill-color);\n",
              "    height: 32px;\n",
              "    padding: 0;\n",
              "    width: 32px;\n",
              "  }\n",
              "\n",
              "  .colab-df-quickchart:hover {\n",
              "    background-color: var(--hover-bg-color);\n",
              "    box-shadow: 0 1px 2px rgba(60, 64, 67, 0.3), 0 1px 3px 1px rgba(60, 64, 67, 0.15);\n",
              "    fill: var(--button-hover-fill-color);\n",
              "  }\n",
              "\n",
              "  .colab-df-quickchart-complete:disabled,\n",
              "  .colab-df-quickchart-complete:disabled:hover {\n",
              "    background-color: var(--disabled-bg-color);\n",
              "    fill: var(--disabled-fill-color);\n",
              "    box-shadow: none;\n",
              "  }\n",
              "\n",
              "  .colab-df-spinner {\n",
              "    border: 2px solid var(--fill-color);\n",
              "    border-color: transparent;\n",
              "    border-bottom-color: var(--fill-color);\n",
              "    animation:\n",
              "      spin 1s steps(1) infinite;\n",
              "  }\n",
              "\n",
              "  @keyframes spin {\n",
              "    0% {\n",
              "      border-color: transparent;\n",
              "      border-bottom-color: var(--fill-color);\n",
              "      border-left-color: var(--fill-color);\n",
              "    }\n",
              "    20% {\n",
              "      border-color: transparent;\n",
              "      border-left-color: var(--fill-color);\n",
              "      border-top-color: var(--fill-color);\n",
              "    }\n",
              "    30% {\n",
              "      border-color: transparent;\n",
              "      border-left-color: var(--fill-color);\n",
              "      border-top-color: var(--fill-color);\n",
              "      border-right-color: var(--fill-color);\n",
              "    }\n",
              "    40% {\n",
              "      border-color: transparent;\n",
              "      border-right-color: var(--fill-color);\n",
              "      border-top-color: var(--fill-color);\n",
              "    }\n",
              "    60% {\n",
              "      border-color: transparent;\n",
              "      border-right-color: var(--fill-color);\n",
              "    }\n",
              "    80% {\n",
              "      border-color: transparent;\n",
              "      border-right-color: var(--fill-color);\n",
              "      border-bottom-color: var(--fill-color);\n",
              "    }\n",
              "    90% {\n",
              "      border-color: transparent;\n",
              "      border-bottom-color: var(--fill-color);\n",
              "    }\n",
              "  }\n",
              "</style>\n",
              "\n",
              "  <script>\n",
              "    async function quickchart(key) {\n",
              "      const quickchartButtonEl =\n",
              "        document.querySelector('#' + key + ' button');\n",
              "      quickchartButtonEl.disabled = true;  // To prevent multiple clicks.\n",
              "      quickchartButtonEl.classList.add('colab-df-spinner');\n",
              "      try {\n",
              "        const charts = await google.colab.kernel.invokeFunction(\n",
              "            'suggestCharts', [key], {});\n",
              "      } catch (error) {\n",
              "        console.error('Error during call to suggestCharts:', error);\n",
              "      }\n",
              "      quickchartButtonEl.classList.remove('colab-df-spinner');\n",
              "      quickchartButtonEl.classList.add('colab-df-quickchart-complete');\n",
              "    }\n",
              "    (() => {\n",
              "      let quickchartButtonEl =\n",
              "        document.querySelector('#df-93c5e8c2-8924-4253-8e51-9daf43817207 button');\n",
              "      quickchartButtonEl.style.display =\n",
              "        google.colab.kernel.accessAllowed ? 'block' : 'none';\n",
              "    })();\n",
              "  </script>\n",
              "</div>\n",
              "\n",
              "    </div>\n",
              "  </div>\n"
            ],
            "application/vnd.google.colaboratory.intrinsic+json": {
              "type": "dataframe",
              "variable_name": "pivot",
              "summary": "{\n  \"name\": \"pivot\",\n  \"rows\": 1217,\n  \"fields\": [\n    {\n      \"column\": \"cm\",\n      \"properties\": {\n        \"dtype\": \"string\",\n        \"num_unique_values\": 1093,\n        \"samples\": [\n          \"2017-774946\",\n          \"0000024391\",\n          \"0000017381\"\n        ],\n        \"semantic_type\": \"\",\n        \"description\": \"\"\n      }\n    },\n    {\n      \"column\": \"gender\",\n      \"properties\": {\n        \"dtype\": \"category\",\n        \"num_unique_values\": 2,\n        \"samples\": [\n          \"P\",\n          \"L\"\n        ],\n        \"semantic_type\": \"\",\n        \"description\": \"\"\n      }\n    },\n    {\n      \"column\": \"usia_tahun\",\n      \"properties\": {\n        \"dtype\": \"number\",\n        \"std\": 11,\n        \"min\": 1,\n        \"max\": 87,\n        \"num_unique_values\": 72,\n        \"samples\": [\n          62,\n          41\n        ],\n        \"semantic_type\": \"\",\n        \"description\": \"\"\n      }\n    },\n    {\n      \"column\": \"IMT\",\n      \"properties\": {\n        \"dtype\": \"number\",\n        \"std\": 142.51452926468966,\n        \"min\": 0.18,\n        \"max\": 2551.11,\n        \"num_unique_values\": 645,\n        \"samples\": [\n          32.24,\n          21.97\n        ],\n        \"semantic_type\": \"\",\n        \"description\": \"\"\n      }\n    },\n    {\n      \"column\": \"Glukosa 2 Jam PP\",\n      \"properties\": {\n        \"dtype\": \"category\",\n        \"num_unique_values\": 337,\n        \"samples\": [\n          231,\n          116\n        ],\n        \"semantic_type\": \"\",\n        \"description\": \"\"\n      }\n    },\n    {\n      \"column\": \"Glukosa Puasa\",\n      \"properties\": {\n        \"dtype\": \"category\",\n        \"num_unique_values\": 249,\n        \"samples\": [\n          97,\n          208\n        ],\n        \"semantic_type\": \"\",\n        \"description\": \"\"\n      }\n    },\n    {\n      \"column\": \"HbA1C\",\n      \"properties\": {\n        \"dtype\": \"category\",\n        \"num_unique_values\": 100,\n        \"samples\": [\n          10.8,\n          10\n        ],\n        \"semantic_type\": \"\",\n        \"description\": \"\"\n      }\n    },\n    {\n      \"column\": \"Kolesterol Total\",\n      \"properties\": {\n        \"dtype\": \"category\",\n        \"num_unique_values\": 142,\n        \"samples\": [\n          177,\n          188\n        ],\n        \"semantic_type\": \"\",\n        \"description\": \"\"\n      }\n    }\n  ]\n}"
            }
          },
          "metadata": {},
          "execution_count": 53
        }
      ]
    },
    {
      "cell_type": "code",
      "source": [
        "print(len(pivot))"
      ],
      "metadata": {
        "colab": {
          "base_uri": "https://localhost:8080/"
        },
        "id": "hO3lIFzokXL_",
        "outputId": "3fb5f27e-9669-48f9-cd33-54d0028af25b"
      },
      "execution_count": 54,
      "outputs": [
        {
          "output_type": "stream",
          "name": "stdout",
          "text": [
            "1217\n"
          ]
        }
      ]
    },
    {
      "cell_type": "code",
      "source": [
        "# Informasi data dari setiap kolom\n",
        "pivot.info()"
      ],
      "metadata": {
        "id": "Pt2JFh0-LtP8",
        "colab": {
          "base_uri": "https://localhost:8080/"
        },
        "outputId": "75cc4f3c-628c-4f8d-a14d-582909e0e416"
      },
      "execution_count": 55,
      "outputs": [
        {
          "output_type": "stream",
          "name": "stdout",
          "text": [
            "<class 'pandas.core.frame.DataFrame'>\n",
            "RangeIndex: 1217 entries, 0 to 1216\n",
            "Data columns (total 8 columns):\n",
            " #   Column            Non-Null Count  Dtype  \n",
            "---  ------            --------------  -----  \n",
            " 0   cm                1217 non-null   object \n",
            " 1   gender            1217 non-null   object \n",
            " 2   usia_tahun        1217 non-null   int64  \n",
            " 3   IMT               1217 non-null   float64\n",
            " 4   Glukosa 2 Jam PP  1084 non-null   object \n",
            " 5   Glukosa Puasa     1149 non-null   object \n",
            " 6   HbA1C             528 non-null    object \n",
            " 7   Kolesterol Total  290 non-null    object \n",
            "dtypes: float64(1), int64(1), object(6)\n",
            "memory usage: 76.2+ KB\n"
          ]
        }
      ]
    },
    {
      "cell_type": "code",
      "source": [
        "# Memeriksa missing value\n",
        "pivot.isna().sum()"
      ],
      "metadata": {
        "colab": {
          "base_uri": "https://localhost:8080/"
        },
        "id": "5mbFSvOb95la",
        "outputId": "66a36642-2c82-40bc-9488-a77149d67165"
      },
      "execution_count": 56,
      "outputs": [
        {
          "output_type": "execute_result",
          "data": {
            "text/plain": [
              "TEST_NM\n",
              "cm                    0\n",
              "gender                0\n",
              "usia_tahun            0\n",
              "IMT                   0\n",
              "Glukosa 2 Jam PP    133\n",
              "Glukosa Puasa        68\n",
              "HbA1C               689\n",
              "Kolesterol Total    927\n",
              "dtype: int64"
            ]
          },
          "metadata": {},
          "execution_count": 56
        }
      ]
    },
    {
      "cell_type": "code",
      "source": [
        "# Memeriksa data duplicate\n",
        "pivot.duplicated().sum()\n",
        "print(\"Jumlah duplikasi: \"), pivot.duplicated().sum()"
      ],
      "metadata": {
        "colab": {
          "base_uri": "https://localhost:8080/"
        },
        "id": "-3z65nfS-OFf",
        "outputId": "6a2f2002-b1ef-4a3a-f498-f53e14d75330"
      },
      "execution_count": 57,
      "outputs": [
        {
          "output_type": "stream",
          "name": "stdout",
          "text": [
            "Jumlah duplikasi: \n"
          ]
        },
        {
          "output_type": "execute_result",
          "data": {
            "text/plain": [
              "(None, 0)"
            ]
          },
          "metadata": {},
          "execution_count": 57
        }
      ]
    },
    {
      "cell_type": "code",
      "source": [
        "# Menghapus kolom 'Kolesterol Total'\n",
        "df_cleaned = pivot.drop(columns=['Kolesterol Total', 'cm'])\n",
        "df_cleaned.head()"
      ],
      "metadata": {
        "colab": {
          "base_uri": "https://localhost:8080/",
          "height": 206
        },
        "id": "WJ2Os9TqZ9aX",
        "outputId": "f903c2d7-a90b-419f-cb1d-36c7b735e907"
      },
      "execution_count": 58,
      "outputs": [
        {
          "output_type": "execute_result",
          "data": {
            "text/plain": [
              "TEST_NM gender  usia_tahun    IMT Glukosa 2 Jam PP Glukosa Puasa HbA1C\n",
              "0            L          58  17.93              NaN            92   NaN\n",
              "1            L          60  25.71              275           167   NaN\n",
              "2            P          65  24.84              151           126   5.9\n",
              "3            L          54  29.07              376           218   NaN\n",
              "4            P          62  31.22              NaN           NaN   NaN"
            ],
            "text/html": [
              "\n",
              "  <div id=\"df-b27f77a0-442d-4ab2-9480-e94e88974216\" class=\"colab-df-container\">\n",
              "    <div>\n",
              "<style scoped>\n",
              "    .dataframe tbody tr th:only-of-type {\n",
              "        vertical-align: middle;\n",
              "    }\n",
              "\n",
              "    .dataframe tbody tr th {\n",
              "        vertical-align: top;\n",
              "    }\n",
              "\n",
              "    .dataframe thead th {\n",
              "        text-align: right;\n",
              "    }\n",
              "</style>\n",
              "<table border=\"1\" class=\"dataframe\">\n",
              "  <thead>\n",
              "    <tr style=\"text-align: right;\">\n",
              "      <th>TEST_NM</th>\n",
              "      <th>gender</th>\n",
              "      <th>usia_tahun</th>\n",
              "      <th>IMT</th>\n",
              "      <th>Glukosa 2 Jam PP</th>\n",
              "      <th>Glukosa Puasa</th>\n",
              "      <th>HbA1C</th>\n",
              "    </tr>\n",
              "  </thead>\n",
              "  <tbody>\n",
              "    <tr>\n",
              "      <th>0</th>\n",
              "      <td>L</td>\n",
              "      <td>58</td>\n",
              "      <td>17.93</td>\n",
              "      <td>NaN</td>\n",
              "      <td>92</td>\n",
              "      <td>NaN</td>\n",
              "    </tr>\n",
              "    <tr>\n",
              "      <th>1</th>\n",
              "      <td>L</td>\n",
              "      <td>60</td>\n",
              "      <td>25.71</td>\n",
              "      <td>275</td>\n",
              "      <td>167</td>\n",
              "      <td>NaN</td>\n",
              "    </tr>\n",
              "    <tr>\n",
              "      <th>2</th>\n",
              "      <td>P</td>\n",
              "      <td>65</td>\n",
              "      <td>24.84</td>\n",
              "      <td>151</td>\n",
              "      <td>126</td>\n",
              "      <td>5.9</td>\n",
              "    </tr>\n",
              "    <tr>\n",
              "      <th>3</th>\n",
              "      <td>L</td>\n",
              "      <td>54</td>\n",
              "      <td>29.07</td>\n",
              "      <td>376</td>\n",
              "      <td>218</td>\n",
              "      <td>NaN</td>\n",
              "    </tr>\n",
              "    <tr>\n",
              "      <th>4</th>\n",
              "      <td>P</td>\n",
              "      <td>62</td>\n",
              "      <td>31.22</td>\n",
              "      <td>NaN</td>\n",
              "      <td>NaN</td>\n",
              "      <td>NaN</td>\n",
              "    </tr>\n",
              "  </tbody>\n",
              "</table>\n",
              "</div>\n",
              "    <div class=\"colab-df-buttons\">\n",
              "\n",
              "  <div class=\"colab-df-container\">\n",
              "    <button class=\"colab-df-convert\" onclick=\"convertToInteractive('df-b27f77a0-442d-4ab2-9480-e94e88974216')\"\n",
              "            title=\"Convert this dataframe to an interactive table.\"\n",
              "            style=\"display:none;\">\n",
              "\n",
              "  <svg xmlns=\"http://www.w3.org/2000/svg\" height=\"24px\" viewBox=\"0 -960 960 960\">\n",
              "    <path d=\"M120-120v-720h720v720H120Zm60-500h600v-160H180v160Zm220 220h160v-160H400v160Zm0 220h160v-160H400v160ZM180-400h160v-160H180v160Zm440 0h160v-160H620v160ZM180-180h160v-160H180v160Zm440 0h160v-160H620v160Z\"/>\n",
              "  </svg>\n",
              "    </button>\n",
              "\n",
              "  <style>\n",
              "    .colab-df-container {\n",
              "      display:flex;\n",
              "      gap: 12px;\n",
              "    }\n",
              "\n",
              "    .colab-df-convert {\n",
              "      background-color: #E8F0FE;\n",
              "      border: none;\n",
              "      border-radius: 50%;\n",
              "      cursor: pointer;\n",
              "      display: none;\n",
              "      fill: #1967D2;\n",
              "      height: 32px;\n",
              "      padding: 0 0 0 0;\n",
              "      width: 32px;\n",
              "    }\n",
              "\n",
              "    .colab-df-convert:hover {\n",
              "      background-color: #E2EBFA;\n",
              "      box-shadow: 0px 1px 2px rgba(60, 64, 67, 0.3), 0px 1px 3px 1px rgba(60, 64, 67, 0.15);\n",
              "      fill: #174EA6;\n",
              "    }\n",
              "\n",
              "    .colab-df-buttons div {\n",
              "      margin-bottom: 4px;\n",
              "    }\n",
              "\n",
              "    [theme=dark] .colab-df-convert {\n",
              "      background-color: #3B4455;\n",
              "      fill: #D2E3FC;\n",
              "    }\n",
              "\n",
              "    [theme=dark] .colab-df-convert:hover {\n",
              "      background-color: #434B5C;\n",
              "      box-shadow: 0px 1px 3px 1px rgba(0, 0, 0, 0.15);\n",
              "      filter: drop-shadow(0px 1px 2px rgba(0, 0, 0, 0.3));\n",
              "      fill: #FFFFFF;\n",
              "    }\n",
              "  </style>\n",
              "\n",
              "    <script>\n",
              "      const buttonEl =\n",
              "        document.querySelector('#df-b27f77a0-442d-4ab2-9480-e94e88974216 button.colab-df-convert');\n",
              "      buttonEl.style.display =\n",
              "        google.colab.kernel.accessAllowed ? 'block' : 'none';\n",
              "\n",
              "      async function convertToInteractive(key) {\n",
              "        const element = document.querySelector('#df-b27f77a0-442d-4ab2-9480-e94e88974216');\n",
              "        const dataTable =\n",
              "          await google.colab.kernel.invokeFunction('convertToInteractive',\n",
              "                                                    [key], {});\n",
              "        if (!dataTable) return;\n",
              "\n",
              "        const docLinkHtml = 'Like what you see? Visit the ' +\n",
              "          '<a target=\"_blank\" href=https://colab.research.google.com/notebooks/data_table.ipynb>data table notebook</a>'\n",
              "          + ' to learn more about interactive tables.';\n",
              "        element.innerHTML = '';\n",
              "        dataTable['output_type'] = 'display_data';\n",
              "        await google.colab.output.renderOutput(dataTable, element);\n",
              "        const docLink = document.createElement('div');\n",
              "        docLink.innerHTML = docLinkHtml;\n",
              "        element.appendChild(docLink);\n",
              "      }\n",
              "    </script>\n",
              "  </div>\n",
              "\n",
              "\n",
              "<div id=\"df-5f570a4e-9d7e-42b4-882e-782afd9f5b98\">\n",
              "  <button class=\"colab-df-quickchart\" onclick=\"quickchart('df-5f570a4e-9d7e-42b4-882e-782afd9f5b98')\"\n",
              "            title=\"Suggest charts\"\n",
              "            style=\"display:none;\">\n",
              "\n",
              "<svg xmlns=\"http://www.w3.org/2000/svg\" height=\"24px\"viewBox=\"0 0 24 24\"\n",
              "     width=\"24px\">\n",
              "    <g>\n",
              "        <path d=\"M19 3H5c-1.1 0-2 .9-2 2v14c0 1.1.9 2 2 2h14c1.1 0 2-.9 2-2V5c0-1.1-.9-2-2-2zM9 17H7v-7h2v7zm4 0h-2V7h2v10zm4 0h-2v-4h2v4z\"/>\n",
              "    </g>\n",
              "</svg>\n",
              "  </button>\n",
              "\n",
              "<style>\n",
              "  .colab-df-quickchart {\n",
              "      --bg-color: #E8F0FE;\n",
              "      --fill-color: #1967D2;\n",
              "      --hover-bg-color: #E2EBFA;\n",
              "      --hover-fill-color: #174EA6;\n",
              "      --disabled-fill-color: #AAA;\n",
              "      --disabled-bg-color: #DDD;\n",
              "  }\n",
              "\n",
              "  [theme=dark] .colab-df-quickchart {\n",
              "      --bg-color: #3B4455;\n",
              "      --fill-color: #D2E3FC;\n",
              "      --hover-bg-color: #434B5C;\n",
              "      --hover-fill-color: #FFFFFF;\n",
              "      --disabled-bg-color: #3B4455;\n",
              "      --disabled-fill-color: #666;\n",
              "  }\n",
              "\n",
              "  .colab-df-quickchart {\n",
              "    background-color: var(--bg-color);\n",
              "    border: none;\n",
              "    border-radius: 50%;\n",
              "    cursor: pointer;\n",
              "    display: none;\n",
              "    fill: var(--fill-color);\n",
              "    height: 32px;\n",
              "    padding: 0;\n",
              "    width: 32px;\n",
              "  }\n",
              "\n",
              "  .colab-df-quickchart:hover {\n",
              "    background-color: var(--hover-bg-color);\n",
              "    box-shadow: 0 1px 2px rgba(60, 64, 67, 0.3), 0 1px 3px 1px rgba(60, 64, 67, 0.15);\n",
              "    fill: var(--button-hover-fill-color);\n",
              "  }\n",
              "\n",
              "  .colab-df-quickchart-complete:disabled,\n",
              "  .colab-df-quickchart-complete:disabled:hover {\n",
              "    background-color: var(--disabled-bg-color);\n",
              "    fill: var(--disabled-fill-color);\n",
              "    box-shadow: none;\n",
              "  }\n",
              "\n",
              "  .colab-df-spinner {\n",
              "    border: 2px solid var(--fill-color);\n",
              "    border-color: transparent;\n",
              "    border-bottom-color: var(--fill-color);\n",
              "    animation:\n",
              "      spin 1s steps(1) infinite;\n",
              "  }\n",
              "\n",
              "  @keyframes spin {\n",
              "    0% {\n",
              "      border-color: transparent;\n",
              "      border-bottom-color: var(--fill-color);\n",
              "      border-left-color: var(--fill-color);\n",
              "    }\n",
              "    20% {\n",
              "      border-color: transparent;\n",
              "      border-left-color: var(--fill-color);\n",
              "      border-top-color: var(--fill-color);\n",
              "    }\n",
              "    30% {\n",
              "      border-color: transparent;\n",
              "      border-left-color: var(--fill-color);\n",
              "      border-top-color: var(--fill-color);\n",
              "      border-right-color: var(--fill-color);\n",
              "    }\n",
              "    40% {\n",
              "      border-color: transparent;\n",
              "      border-right-color: var(--fill-color);\n",
              "      border-top-color: var(--fill-color);\n",
              "    }\n",
              "    60% {\n",
              "      border-color: transparent;\n",
              "      border-right-color: var(--fill-color);\n",
              "    }\n",
              "    80% {\n",
              "      border-color: transparent;\n",
              "      border-right-color: var(--fill-color);\n",
              "      border-bottom-color: var(--fill-color);\n",
              "    }\n",
              "    90% {\n",
              "      border-color: transparent;\n",
              "      border-bottom-color: var(--fill-color);\n",
              "    }\n",
              "  }\n",
              "</style>\n",
              "\n",
              "  <script>\n",
              "    async function quickchart(key) {\n",
              "      const quickchartButtonEl =\n",
              "        document.querySelector('#' + key + ' button');\n",
              "      quickchartButtonEl.disabled = true;  // To prevent multiple clicks.\n",
              "      quickchartButtonEl.classList.add('colab-df-spinner');\n",
              "      try {\n",
              "        const charts = await google.colab.kernel.invokeFunction(\n",
              "            'suggestCharts', [key], {});\n",
              "      } catch (error) {\n",
              "        console.error('Error during call to suggestCharts:', error);\n",
              "      }\n",
              "      quickchartButtonEl.classList.remove('colab-df-spinner');\n",
              "      quickchartButtonEl.classList.add('colab-df-quickchart-complete');\n",
              "    }\n",
              "    (() => {\n",
              "      let quickchartButtonEl =\n",
              "        document.querySelector('#df-5f570a4e-9d7e-42b4-882e-782afd9f5b98 button');\n",
              "      quickchartButtonEl.style.display =\n",
              "        google.colab.kernel.accessAllowed ? 'block' : 'none';\n",
              "    })();\n",
              "  </script>\n",
              "</div>\n",
              "\n",
              "    </div>\n",
              "  </div>\n"
            ],
            "application/vnd.google.colaboratory.intrinsic+json": {
              "type": "dataframe",
              "variable_name": "df_cleaned",
              "summary": "{\n  \"name\": \"df_cleaned\",\n  \"rows\": 1217,\n  \"fields\": [\n    {\n      \"column\": \"gender\",\n      \"properties\": {\n        \"dtype\": \"category\",\n        \"num_unique_values\": 2,\n        \"samples\": [\n          \"P\",\n          \"L\"\n        ],\n        \"semantic_type\": \"\",\n        \"description\": \"\"\n      }\n    },\n    {\n      \"column\": \"usia_tahun\",\n      \"properties\": {\n        \"dtype\": \"number\",\n        \"std\": 11,\n        \"min\": 1,\n        \"max\": 87,\n        \"num_unique_values\": 72,\n        \"samples\": [\n          62,\n          41\n        ],\n        \"semantic_type\": \"\",\n        \"description\": \"\"\n      }\n    },\n    {\n      \"column\": \"IMT\",\n      \"properties\": {\n        \"dtype\": \"number\",\n        \"std\": 142.51452926468966,\n        \"min\": 0.18,\n        \"max\": 2551.11,\n        \"num_unique_values\": 645,\n        \"samples\": [\n          32.24,\n          21.97\n        ],\n        \"semantic_type\": \"\",\n        \"description\": \"\"\n      }\n    },\n    {\n      \"column\": \"Glukosa 2 Jam PP\",\n      \"properties\": {\n        \"dtype\": \"category\",\n        \"num_unique_values\": 337,\n        \"samples\": [\n          231,\n          116\n        ],\n        \"semantic_type\": \"\",\n        \"description\": \"\"\n      }\n    },\n    {\n      \"column\": \"Glukosa Puasa\",\n      \"properties\": {\n        \"dtype\": \"category\",\n        \"num_unique_values\": 249,\n        \"samples\": [\n          97,\n          208\n        ],\n        \"semantic_type\": \"\",\n        \"description\": \"\"\n      }\n    },\n    {\n      \"column\": \"HbA1C\",\n      \"properties\": {\n        \"dtype\": \"category\",\n        \"num_unique_values\": 100,\n        \"samples\": [\n          10.8,\n          10\n        ],\n        \"semantic_type\": \"\",\n        \"description\": \"\"\n      }\n    }\n  ]\n}"
            }
          },
          "metadata": {},
          "execution_count": 58
        }
      ]
    },
    {
      "cell_type": "code",
      "source": [
        "# Drop rows with missing values\n",
        "df_cleaned = df_cleaned.dropna()"
      ],
      "metadata": {
        "id": "_S7QXNESI3Zy"
      },
      "execution_count": 59,
      "outputs": []
    },
    {
      "cell_type": "code",
      "source": [
        "# Menghapus baris data yang memiliki data dengan input menyusul pada beberapa kolom\n",
        "df_cleaned = df_cleaned.drop(\n",
        "    df_cleaned[\n",
        "        (df_cleaned['Glukosa 2 Jam PP'] == 'Menyusul') |\n",
        "        (df_cleaned['Glukosa Puasa'] == 'Menyusul' ) |\n",
        "        (df_cleaned['HbA1C'] == 'Menyusul' )\n",
        "        ].index\n",
        "    )\n",
        "# Memeriksa missing value\n",
        "df_cleaned.isna().sum()"
      ],
      "metadata": {
        "id": "qLNSh4PXfY1p",
        "colab": {
          "base_uri": "https://localhost:8080/"
        },
        "outputId": "e8904d6a-25bc-4b3f-8b1e-e6546d5585f7"
      },
      "execution_count": 60,
      "outputs": [
        {
          "output_type": "execute_result",
          "data": {
            "text/plain": [
              "TEST_NM\n",
              "gender              0\n",
              "usia_tahun          0\n",
              "IMT                 0\n",
              "Glukosa 2 Jam PP    0\n",
              "Glukosa Puasa       0\n",
              "HbA1C               0\n",
              "dtype: int64"
            ]
          },
          "metadata": {},
          "execution_count": 60
        }
      ]
    },
    {
      "cell_type": "code",
      "source": [
        "# Menghapus baris data yang memiliki data dengan input -- pada beberapa kolom\n",
        "df_cleaned = df_cleaned.drop(\n",
        "    df_cleaned[\n",
        "        (df_cleaned['Glukosa 2 Jam PP'] == '--')].index)\n",
        "\n",
        "# Mengubah .. menjadi ,\n",
        "df_cleaned['HbA1C'].replace({'6..3': 6.3}, inplace=True)\n",
        "\n",
        "# Convert columns to numeric\n",
        "df_cleaned['Glukosa Puasa'] = pd.to_numeric(df_cleaned['Glukosa Puasa'])\n",
        "df_cleaned['Glukosa 2 Jam PP'] = pd.to_numeric(df_cleaned['Glukosa 2 Jam PP'])\n",
        "df_cleaned['HbA1C'] = pd.to_numeric(df_cleaned['HbA1C'])\n"
      ],
      "metadata": {
        "id": "V-s1bjHJI-e_"
      },
      "execution_count": 61,
      "outputs": []
    },
    {
      "cell_type": "code",
      "source": [
        "# Mengetahui banyak baris data\n",
        "print(len(df_cleaned))"
      ],
      "metadata": {
        "colab": {
          "base_uri": "https://localhost:8080/"
        },
        "id": "f2OwyUuxiBCA",
        "outputId": "3e6908c9-9e40-42c0-84f2-370289512d77"
      },
      "execution_count": 62,
      "outputs": [
        {
          "output_type": "stream",
          "name": "stdout",
          "text": [
            "436\n"
          ]
        }
      ]
    },
    {
      "cell_type": "markdown",
      "source": [
        "## Labelling Data"
      ],
      "metadata": {
        "id": "f7GqbmaAfDx7"
      }
    },
    {
      "cell_type": "code",
      "source": [
        "def label_diabetes(row):\n",
        "    gdp = row['Glukosa Puasa']\n",
        "    gd2pp = row['Glukosa 2 Jam PP']\n",
        "    hba1c = row['HbA1C']\n",
        "    if (hba1c >= 6.5):\n",
        "        return 'Diabetes'\n",
        "    else:\n",
        "        return 'Normal'\n",
        "\n",
        "# Membuat kolom baru menggunakan apply\n",
        "df_cleaned['Diagnosa akhir'] = df_cleaned.apply(label_diabetes, axis=1)"
      ],
      "metadata": {
        "id": "MymIM_Uqjym0"
      },
      "execution_count": 63,
      "outputs": []
    },
    {
      "cell_type": "markdown",
      "source": [
        "## Convert Data to Range"
      ],
      "metadata": {
        "id": "Z_H_F7sTUry_"
      }
    },
    {
      "cell_type": "code",
      "source": [
        "class convert_data:\n",
        "    def __init__(self, df):\n",
        "        self.df = df\n",
        "\n",
        "    def usia(self, row):\n",
        "        usia = row['usia_tahun']\n",
        "        if usia < 45:\n",
        "            return 1\n",
        "        else:\n",
        "            return 2\n",
        "\n",
        "    def imt(self, row):\n",
        "        bmi = row['IMT']\n",
        "        if bmi < 18.4:\n",
        "            return 1\n",
        "        elif bmi > 25.0:\n",
        "            return 3\n",
        "        else:\n",
        "            return 2\n",
        "\n",
        "    def gender(self, row):\n",
        "        jk = row['gender']\n",
        "        if jk == 'P':\n",
        "            return 1\n",
        "        else:\n",
        "            return 2\n",
        "\n",
        "    def gdp(self, row):\n",
        "        glupu = row['Glukosa Puasa']\n",
        "        if glupu >= 126 :\n",
        "          return 1\n",
        "        else:\n",
        "            return 2\n",
        "\n",
        "    def gd2pp(self, row):\n",
        "        glupp = row['Glukosa 2 Jam PP']\n",
        "        if glupp >= 200 :\n",
        "          return 1\n",
        "        else:\n",
        "            return 2\n",
        "\n",
        "    def hba1c(self, row):\n",
        "        a1c = row['HbA1C']\n",
        "        if a1c >= 6.5 :\n",
        "          return 1\n",
        "        else:\n",
        "            return 2\n",
        "\n",
        "    def transform_columns(self):\n",
        "        self.df['usia_tahun'] = self.df.apply(self.usia, axis=1)\n",
        "        self.df['IMT'] = self.df.apply(self.imt, axis=1)\n",
        "        self.df['gender'] = self.df.apply(self.gender, axis=1)\n",
        "        self.df['Glukosa Puasa'] = self.df.apply(self.gdp, axis=1)\n",
        "        self.df['Glukosa 2 Jam PP'] = self.df.apply(self.gd2pp, axis=1)\n",
        "        self.df['HbA1C'] = self.df.apply(self.hba1c, axis=1)\n",
        "\n",
        "    def process(self):\n",
        "        self.transform_columns()\n",
        "        return self.df"
      ],
      "metadata": {
        "id": "gmL8B1r6e1bl"
      },
      "execution_count": 64,
      "outputs": []
    },
    {
      "cell_type": "code",
      "source": [
        "# Create an instance of the processor and process the data\n",
        "processor = convert_data(df_cleaned)\n",
        "df_cleaned = processor.process()"
      ],
      "metadata": {
        "id": "fiV1weemaEbr"
      },
      "execution_count": 65,
      "outputs": []
    },
    {
      "cell_type": "code",
      "source": [
        "# Simpan Data pivot clean sebagai file Excel baru\n",
        "data_label = '/content/drive/MyDrive/PKL/PKL_Labeled.xlsx'\n",
        "df_cleaned.to_excel(data_label)\n",
        "\n",
        "print(f\"Data has been saved as a new file: {data_label}\")"
      ],
      "metadata": {
        "colab": {
          "base_uri": "https://localhost:8080/"
        },
        "id": "Pfd8j6XhJt0-",
        "outputId": "0e2b6b2c-e5ed-417f-c57b-a4e47f6359c8"
      },
      "execution_count": 66,
      "outputs": [
        {
          "output_type": "stream",
          "name": "stdout",
          "text": [
            "Data has been saved as a new file: /content/drive/MyDrive/PKL/PKL_Labeled.xlsx\n"
          ]
        }
      ]
    },
    {
      "cell_type": "code",
      "source": [
        "print(len(df_cleaned))"
      ],
      "metadata": {
        "colab": {
          "base_uri": "https://localhost:8080/"
        },
        "id": "HRyPzbl2nrlM",
        "outputId": "cf8ceb77-f71e-4add-fddc-72ec296573e8"
      },
      "execution_count": 67,
      "outputs": [
        {
          "output_type": "stream",
          "name": "stdout",
          "text": [
            "436\n"
          ]
        }
      ]
    },
    {
      "cell_type": "markdown",
      "source": [
        "# **2. Analisis Data Eksploratori**"
      ],
      "metadata": {
        "id": "ovjQol4Dk1Pa"
      }
    },
    {
      "cell_type": "markdown",
      "source": [
        "## Mengetahui normalitas data\n",
        "\n",
        "Dilakukan pada data training saja"
      ],
      "metadata": {
        "id": "lU3NHhPZJ-xA"
      }
    },
    {
      "cell_type": "code",
      "source": [
        "# Shapiro-Wilk Test\n",
        "from scipy.stats import shapiro"
      ],
      "metadata": {
        "id": "3KkyiUiVKKbh"
      },
      "execution_count": 68,
      "outputs": []
    },
    {
      "cell_type": "code",
      "source": [
        "# Mencari tahu distribusi data\n",
        "data1 = df_cleaned['Glukosa 2 Jam PP']\n",
        "data2 = df_cleaned['Glukosa Puasa']\n",
        "data3 = df_cleaned['HbA1C']\n",
        "\n",
        "# Membuat subplots\n",
        "fig, axs = plt.subplots(1, 3, figsize=(15, 5))\n",
        "\n",
        "# Histogram pertama\n",
        "axs[0].hist(data1, bins=30, color='blue', alpha=0.7)\n",
        "axs[0].set_title('Glukosa 2 Jam PP')\n",
        "\n",
        "# Histogram kedua\n",
        "axs[1].hist(data2, bins=30, color='green', alpha=0.7)\n",
        "axs[1].set_title('Glukosa Puasa')\n",
        "\n",
        "# Histogram ketiga\n",
        "axs[2].hist(data3, bins=30, color='red', alpha=0.7)\n",
        "axs[2].set_title('HbA1C')\n",
        "\n",
        "# Menampilkan plot\n",
        "plt.tight_layout()\n",
        "plt.show()"
      ],
      "metadata": {
        "id": "PQo051PFk8Ma",
        "colab": {
          "base_uri": "https://localhost:8080/",
          "height": 398
        },
        "outputId": "503f2a10-d0ae-432f-dbd8-a638e09a8278"
      },
      "execution_count": 69,
      "outputs": [
        {
          "output_type": "display_data",
          "data": {
            "text/plain": [
              "<Figure size 1500x500 with 3 Axes>"
            ],
            "image/png": "[encoded data removed]"
          },
          "metadata": {}
        }
      ]
    },
    {
      "cell_type": "code",
      "source": [
        "# normality test Glukosa 2 jam PP\n",
        "stat, p = shapiro(data1)\n",
        "print('Statistics=%.3f, p=%.3f' % (stat, p))\n",
        "# interpret results\n",
        "alpha = 0.05\n",
        "if p > alpha:\n",
        "    print('Data Glukosa 2 jam PP berdistribusi normal (terima H0)')\n",
        "else:\n",
        "    print('Data Glukosa 2 jam PP tidak berdistribusi normal (tolak H0)')\n",
        "\n",
        "# normality test Glukosa Puasa\n",
        "stat, p = shapiro(data2)\n",
        "print('Statistics=%.3f, p=%.3f' % (stat, p))\n",
        "# interpret results\n",
        "alpha = 0.05\n",
        "if p > alpha:\n",
        "    print('Data Glukosa Puasa berdistribusi normal (terima H0)')\n",
        "else:\n",
        "    print('Data Glukosa Puasa tidak berdistribusi normal (tolak H0)')\n",
        "\n",
        "# normality test Glukosa Puasa\n",
        "stat, p = shapiro(data3)\n",
        "print('Statistics=%.3f, p=%.3f' % (stat, p))\n",
        "# interpret results\n",
        "alpha = 0.05\n",
        "if p > alpha:\n",
        "    print('Data HbA1C berdistribusi normal (terima H0)')\n",
        "else:\n",
        "    print('Data HbA1C tidak berdistribusi normal (tolak H0)')"
      ],
      "metadata": {
        "colab": {
          "base_uri": "https://localhost:8080/"
        },
        "id": "CvQUWRTAJKTR",
        "outputId": "5b32d0e0-01de-4d70-fc2d-88c038d16ed6"
      },
      "execution_count": 70,
      "outputs": [
        {
          "output_type": "stream",
          "name": "stdout",
          "text": [
            "Statistics=0.627, p=0.000\n",
            "Data Glukosa 2 jam PP tidak berdistribusi normal (tolak H0)\n",
            "Statistics=0.603, p=0.000\n",
            "Data Glukosa Puasa tidak berdistribusi normal (tolak H0)\n",
            "Statistics=0.509, p=0.000\n",
            "Data HbA1C tidak berdistribusi normal (tolak H0)\n"
          ]
        }
      ]
    },
    {
      "cell_type": "markdown",
      "source": [
        "## Banyak data per jenisnya"
      ],
      "metadata": {
        "id": "BO_T94XqO5SD"
      }
    },
    {
      "cell_type": "code",
      "source": [
        "# Mengetahui banyak pelanggan biasa yang menyewa sepeda pada tahun 2011 - 2012\n",
        "df_cleaned.groupby('Diagnosa akhir').size().plot(kind='barh', color=sns.palettes.mpl_palette('Dark2'))\n",
        "plt.gca().spines[['top', 'right',]].set_visible(False)"
      ],
      "metadata": {
        "colab": {
          "base_uri": "https://localhost:8080/",
          "height": 430
        },
        "id": "E26g2egOQjwT",
        "outputId": "d38185b9-2016-4dd0-df2e-499e4d6ec2c4"
      },
      "execution_count": 71,
      "outputs": [
        {
          "output_type": "display_data",
          "data": {
            "text/plain": [
              "<Figure size 640x480 with 1 Axes>"
            ],
            "image/png": "[encoded data removed]"
          },
          "metadata": {}
        }
      ]
    },
    {
      "cell_type": "code",
      "source": [],
      "metadata": {
        "id": "dTNSouEmMI2Z"
      },
      "execution_count": 71,
      "outputs": []
    },
    {
      "cell_type": "markdown",
      "source": [
        "# **3. Data Preprocessing**"
      ],
      "metadata": {
        "id": "xM_vpiSd-ngt"
      }
    },
    {
      "cell_type": "code",
      "source": [
        "from sklearn.model_selection import train_test_split\n",
        "from sklearn.naive_bayes import GaussianNB, MultinomialNB, BernoulliNB\n",
        "from sklearn.metrics import accuracy_score\n",
        "from sklearn.metrics import classification_report\n",
        "from sklearn.metrics import confusion_matrix, ConfusionMatrixDisplay, accuracy_score"
      ],
      "metadata": {
        "id": "L3Usf59CTB99"
      },
      "execution_count": 72,
      "outputs": []
    },
    {
      "cell_type": "code",
      "source": [
        "from sklearn.model_selection import learning_curve\n",
        "from sklearn.model_selection import ShuffleSplit"
      ],
      "metadata": {
        "id": "yRfBnaIce69h"
      },
      "execution_count": 73,
      "outputs": []
    },
    {
      "cell_type": "code",
      "source": [
        "import pickle"
      ],
      "metadata": {
        "id": "zhNQvEsOPUMD"
      },
      "execution_count": 74,
      "outputs": []
    },
    {
      "cell_type": "code",
      "source": [
        "X = df_cleaned.iloc[:, :-1]\n",
        "y = df_cleaned.iloc[:, -1]\n",
        "\n",
        "# 3. Bagi data menjadi data latih dan data uji\n",
        "X_train, X_test, y_train, y_test = train_test_split(X, y, test_size=0.2, random_state=42)\n"
      ],
      "metadata": {
        "id": "_AqKNtQ7-1bW"
      },
      "execution_count": 75,
      "outputs": []
    },
    {
      "cell_type": "code",
      "source": [
        "X_train.head()"
      ],
      "metadata": {
        "colab": {
          "base_uri": "https://localhost:8080/",
          "height": 206
        },
        "id": "k0wlJUzHZ0wC",
        "outputId": "0a44bf90-e1d9-425e-970a-7dd302a3a2d8"
      },
      "execution_count": 76,
      "outputs": [
        {
          "output_type": "execute_result",
          "data": {
            "text/plain": [
              "TEST_NM  gender  usia_tahun  IMT  Glukosa 2 Jam PP  Glukosa Puasa  HbA1C\n",
              "731           1           2    2                 1              1      1\n",
              "1137          1           2    1                 2              2      2\n",
              "91            1           2    3                 1              1      1\n",
              "191           2           2    2                 1              1      1\n",
              "842           2           1    3                 1              1      1"
            ],
            "text/html": [
              "\n",
              "  <div id=\"df-8d558f44-333f-4e7c-a767-1fac547875e4\" class=\"colab-df-container\">\n",
              "    <div>\n",
              "<style scoped>\n",
              "    .dataframe tbody tr th:only-of-type {\n",
              "        vertical-align: middle;\n",
              "    }\n",
              "\n",
              "    .dataframe tbody tr th {\n",
              "        vertical-align: top;\n",
              "    }\n",
              "\n",
              "    .dataframe thead th {\n",
              "        text-align: right;\n",
              "    }\n",
              "</style>\n",
              "<table border=\"1\" class=\"dataframe\">\n",
              "  <thead>\n",
              "    <tr style=\"text-align: right;\">\n",
              "      <th>TEST_NM</th>\n",
              "      <th>gender</th>\n",
              "      <th>usia_tahun</th>\n",
              "      <th>IMT</th>\n",
              "      <th>Glukosa 2 Jam PP</th>\n",
              "      <th>Glukosa Puasa</th>\n",
              "      <th>HbA1C</th>\n",
              "    </tr>\n",
              "  </thead>\n",
              "  <tbody>\n",
              "    <tr>\n",
              "      <th>731</th>\n",
              "      <td>1</td>\n",
              "      <td>2</td>\n",
              "      <td>2</td>\n",
              "      <td>1</td>\n",
              "      <td>1</td>\n",
              "      <td>1</td>\n",
              "    </tr>\n",
              "    <tr>\n",
              "      <th>1137</th>\n",
              "      <td>1</td>\n",
              "      <td>2</td>\n",
              "      <td>1</td>\n",
              "      <td>2</td>\n",
              "      <td>2</td>\n",
              "      <td>2</td>\n",
              "    </tr>\n",
              "    <tr>\n",
              "      <th>91</th>\n",
              "      <td>1</td>\n",
              "      <td>2</td>\n",
              "      <td>3</td>\n",
              "      <td>1</td>\n",
              "      <td>1</td>\n",
              "      <td>1</td>\n",
              "    </tr>\n",
              "    <tr>\n",
              "      <th>191</th>\n",
              "      <td>2</td>\n",
              "      <td>2</td>\n",
              "      <td>2</td>\n",
              "      <td>1</td>\n",
              "      <td>1</td>\n",
              "      <td>1</td>\n",
              "    </tr>\n",
              "    <tr>\n",
              "      <th>842</th>\n",
              "      <td>2</td>\n",
              "      <td>1</td>\n",
              "      <td>3</td>\n",
              "      <td>1</td>\n",
              "      <td>1</td>\n",
              "      <td>1</td>\n",
              "    </tr>\n",
              "  </tbody>\n",
              "</table>\n",
              "</div>\n",
              "    <div class=\"colab-df-buttons\">\n",
              "\n",
              "  <div class=\"colab-df-container\">\n",
              "    <button class=\"colab-df-convert\" onclick=\"convertToInteractive('df-8d558f44-333f-4e7c-a767-1fac547875e4')\"\n",
              "            title=\"Convert this dataframe to an interactive table.\"\n",
              "            style=\"display:none;\">\n",
              "\n",
              "  <svg xmlns=\"http://www.w3.org/2000/svg\" height=\"24px\" viewBox=\"0 -960 960 960\">\n",
              "    <path d=\"M120-120v-720h720v720H120Zm60-500h600v-160H180v160Zm220 220h160v-160H400v160Zm0 220h160v-160H400v160ZM180-400h160v-160H180v160Zm440 0h160v-160H620v160ZM180-180h160v-160H180v160Zm440 0h160v-160H620v160Z\"/>\n",
              "  </svg>\n",
              "    </button>\n",
              "\n",
              "  <style>\n",
              "    .colab-df-container {\n",
              "      display:flex;\n",
              "      gap: 12px;\n",
              "    }\n",
              "\n",
              "    .colab-df-convert {\n",
              "      background-color: #E8F0FE;\n",
              "      border: none;\n",
              "      border-radius: 50%;\n",
              "      cursor: pointer;\n",
              "      display: none;\n",
              "      fill: #1967D2;\n",
              "      height: 32px;\n",
              "      padding: 0 0 0 0;\n",
              "      width: 32px;\n",
              "    }\n",
              "\n",
              "    .colab-df-convert:hover {\n",
              "      background-color: #E2EBFA;\n",
              "      box-shadow: 0px 1px 2px rgba(60, 64, 67, 0.3), 0px 1px 3px 1px rgba(60, 64, 67, 0.15);\n",
              "      fill: #174EA6;\n",
              "    }\n",
              "\n",
              "    .colab-df-buttons div {\n",
              "      margin-bottom: 4px;\n",
              "    }\n",
              "\n",
              "    [theme=dark] .colab-df-convert {\n",
              "      background-color: #3B4455;\n",
              "      fill: #D2E3FC;\n",
              "    }\n",
              "\n",
              "    [theme=dark] .colab-df-convert:hover {\n",
              "      background-color: #434B5C;\n",
              "      box-shadow: 0px 1px 3px 1px rgba(0, 0, 0, 0.15);\n",
              "      filter: drop-shadow(0px 1px 2px rgba(0, 0, 0, 0.3));\n",
              "      fill: #FFFFFF;\n",
              "    }\n",
              "  </style>\n",
              "\n",
              "    <script>\n",
              "      const buttonEl =\n",
              "        document.querySelector('#df-8d558f44-333f-4e7c-a767-1fac547875e4 button.colab-df-convert');\n",
              "      buttonEl.style.display =\n",
              "        google.colab.kernel.accessAllowed ? 'block' : 'none';\n",
              "\n",
              "      async function convertToInteractive(key) {\n",
              "        const element = document.querySelector('#df-8d558f44-333f-4e7c-a767-1fac547875e4');\n",
              "        const dataTable =\n",
              "          await google.colab.kernel.invokeFunction('convertToInteractive',\n",
              "                                                    [key], {});\n",
              "        if (!dataTable) return;\n",
              "\n",
              "        const docLinkHtml = 'Like what you see? Visit the ' +\n",
              "          '<a target=\"_blank\" href=https://colab.research.google.com/notebooks/data_table.ipynb>data table notebook</a>'\n",
              "          + ' to learn more about interactive tables.';\n",
              "        element.innerHTML = '';\n",
              "        dataTable['output_type'] = 'display_data';\n",
              "        await google.colab.output.renderOutput(dataTable, element);\n",
              "        const docLink = document.createElement('div');\n",
              "        docLink.innerHTML = docLinkHtml;\n",
              "        element.appendChild(docLink);\n",
              "      }\n",
              "    </script>\n",
              "  </div>\n",
              "\n",
              "\n",
              "<div id=\"df-ce938017-1d74-4fb0-8490-5924976e6ac0\">\n",
              "  <button class=\"colab-df-quickchart\" onclick=\"quickchart('df-ce938017-1d74-4fb0-8490-5924976e6ac0')\"\n",
              "            title=\"Suggest charts\"\n",
              "            style=\"display:none;\">\n",
              "\n",
              "<svg xmlns=\"http://www.w3.org/2000/svg\" height=\"24px\"viewBox=\"0 0 24 24\"\n",
              "     width=\"24px\">\n",
              "    <g>\n",
              "        <path d=\"M19 3H5c-1.1 0-2 .9-2 2v14c0 1.1.9 2 2 2h14c1.1 0 2-.9 2-2V5c0-1.1-.9-2-2-2zM9 17H7v-7h2v7zm4 0h-2V7h2v10zm4 0h-2v-4h2v4z\"/>\n",
              "    </g>\n",
              "</svg>\n",
              "  </button>\n",
              "\n",
              "<style>\n",
              "  .colab-df-quickchart {\n",
              "      --bg-color: #E8F0FE;\n",
              "      --fill-color: #1967D2;\n",
              "      --hover-bg-color: #E2EBFA;\n",
              "      --hover-fill-color: #174EA6;\n",
              "      --disabled-fill-color: #AAA;\n",
              "      --disabled-bg-color: #DDD;\n",
              "  }\n",
              "\n",
              "  [theme=dark] .colab-df-quickchart {\n",
              "      --bg-color: #3B4455;\n",
              "      --fill-color: #D2E3FC;\n",
              "      --hover-bg-color: #434B5C;\n",
              "      --hover-fill-color: #FFFFFF;\n",
              "      --disabled-bg-color: #3B4455;\n",
              "      --disabled-fill-color: #666;\n",
              "  }\n",
              "\n",
              "  .colab-df-quickchart {\n",
              "    background-color: var(--bg-color);\n",
              "    border: none;\n",
              "    border-radius: 50%;\n",
              "    cursor: pointer;\n",
              "    display: none;\n",
              "    fill: var(--fill-color);\n",
              "    height: 32px;\n",
              "    padding: 0;\n",
              "    width: 32px;\n",
              "  }\n",
              "\n",
              "  .colab-df-quickchart:hover {\n",
              "    background-color: var(--hover-bg-color);\n",
              "    box-shadow: 0 1px 2px rgba(60, 64, 67, 0.3), 0 1px 3px 1px rgba(60, 64, 67, 0.15);\n",
              "    fill: var(--button-hover-fill-color);\n",
              "  }\n",
              "\n",
              "  .colab-df-quickchart-complete:disabled,\n",
              "  .colab-df-quickchart-complete:disabled:hover {\n",
              "    background-color: var(--disabled-bg-color);\n",
              "    fill: var(--disabled-fill-color);\n",
              "    box-shadow: none;\n",
              "  }\n",
              "\n",
              "  .colab-df-spinner {\n",
              "    border: 2px solid var(--fill-color);\n",
              "    border-color: transparent;\n",
              "    border-bottom-color: var(--fill-color);\n",
              "    animation:\n",
              "      spin 1s steps(1) infinite;\n",
              "  }\n",
              "\n",
              "  @keyframes spin {\n",
              "    0% {\n",
              "      border-color: transparent;\n",
              "      border-bottom-color: var(--fill-color);\n",
              "      border-left-color: var(--fill-color);\n",
              "    }\n",
              "    20% {\n",
              "      border-color: transparent;\n",
              "      border-left-color: var(--fill-color);\n",
              "      border-top-color: var(--fill-color);\n",
              "    }\n",
              "    30% {\n",
              "      border-color: transparent;\n",
              "      border-left-color: var(--fill-color);\n",
              "      border-top-color: var(--fill-color);\n",
              "      border-right-color: var(--fill-color);\n",
              "    }\n",
              "    40% {\n",
              "      border-color: transparent;\n",
              "      border-right-color: var(--fill-color);\n",
              "      border-top-color: var(--fill-color);\n",
              "    }\n",
              "    60% {\n",
              "      border-color: transparent;\n",
              "      border-right-color: var(--fill-color);\n",
              "    }\n",
              "    80% {\n",
              "      border-color: transparent;\n",
              "      border-right-color: var(--fill-color);\n",
              "      border-bottom-color: var(--fill-color);\n",
              "    }\n",
              "    90% {\n",
              "      border-color: transparent;\n",
              "      border-bottom-color: var(--fill-color);\n",
              "    }\n",
              "  }\n",
              "</style>\n",
              "\n",
              "  <script>\n",
              "    async function quickchart(key) {\n",
              "      const quickchartButtonEl =\n",
              "        document.querySelector('#' + key + ' button');\n",
              "      quickchartButtonEl.disabled = true;  // To prevent multiple clicks.\n",
              "      quickchartButtonEl.classList.add('colab-df-spinner');\n",
              "      try {\n",
              "        const charts = await google.colab.kernel.invokeFunction(\n",
              "            'suggestCharts', [key], {});\n",
              "      } catch (error) {\n",
              "        console.error('Error during call to suggestCharts:', error);\n",
              "      }\n",
              "      quickchartButtonEl.classList.remove('colab-df-spinner');\n",
              "      quickchartButtonEl.classList.add('colab-df-quickchart-complete');\n",
              "    }\n",
              "    (() => {\n",
              "      let quickchartButtonEl =\n",
              "        document.querySelector('#df-ce938017-1d74-4fb0-8490-5924976e6ac0 button');\n",
              "      quickchartButtonEl.style.display =\n",
              "        google.colab.kernel.accessAllowed ? 'block' : 'none';\n",
              "    })();\n",
              "  </script>\n",
              "</div>\n",
              "\n",
              "    </div>\n",
              "  </div>\n"
            ],
            "application/vnd.google.colaboratory.intrinsic+json": {
              "type": "dataframe",
              "variable_name": "X_train",
              "summary": "{\n  \"name\": \"X_train\",\n  \"rows\": 348,\n  \"fields\": [\n    {\n      \"column\": \"gender\",\n      \"properties\": {\n        \"dtype\": \"number\",\n        \"std\": 0,\n        \"min\": 1,\n        \"max\": 2,\n        \"num_unique_values\": 2,\n        \"samples\": [\n          2,\n          1\n        ],\n        \"semantic_type\": \"\",\n        \"description\": \"\"\n      }\n    },\n    {\n      \"column\": \"usia_tahun\",\n      \"properties\": {\n        \"dtype\": \"number\",\n        \"std\": 0,\n        \"min\": 1,\n        \"max\": 2,\n        \"num_unique_values\": 2,\n        \"samples\": [\n          1,\n          2\n        ],\n        \"semantic_type\": \"\",\n        \"description\": \"\"\n      }\n    },\n    {\n      \"column\": \"IMT\",\n      \"properties\": {\n        \"dtype\": \"number\",\n        \"std\": 0,\n        \"min\": 1,\n        \"max\": 3,\n        \"num_unique_values\": 3,\n        \"samples\": [\n          2,\n          1\n        ],\n        \"semantic_type\": \"\",\n        \"description\": \"\"\n      }\n    },\n    {\n      \"column\": \"Glukosa 2 Jam PP\",\n      \"properties\": {\n        \"dtype\": \"number\",\n        \"std\": 0,\n        \"min\": 1,\n        \"max\": 2,\n        \"num_unique_values\": 2,\n        \"samples\": [\n          2,\n          1\n        ],\n        \"semantic_type\": \"\",\n        \"description\": \"\"\n      }\n    },\n    {\n      \"column\": \"Glukosa Puasa\",\n      \"properties\": {\n        \"dtype\": \"number\",\n        \"std\": 0,\n        \"min\": 1,\n        \"max\": 2,\n        \"num_unique_values\": 2,\n        \"samples\": [\n          2,\n          1\n        ],\n        \"semantic_type\": \"\",\n        \"description\": \"\"\n      }\n    },\n    {\n      \"column\": \"HbA1C\",\n      \"properties\": {\n        \"dtype\": \"number\",\n        \"std\": 0,\n        \"min\": 1,\n        \"max\": 2,\n        \"num_unique_values\": 2,\n        \"samples\": [\n          2,\n          1\n        ],\n        \"semantic_type\": \"\",\n        \"description\": \"\"\n      }\n    }\n  ]\n}"
            }
          },
          "metadata": {},
          "execution_count": 76
        }
      ]
    },
    {
      "cell_type": "code",
      "source": [
        "y_train.head()"
      ],
      "metadata": {
        "colab": {
          "base_uri": "https://localhost:8080/"
        },
        "id": "7Ql8IOMBdhn5",
        "outputId": "c609aa72-be86-4fdb-d3e3-f5b2e4040a0b"
      },
      "execution_count": 77,
      "outputs": [
        {
          "output_type": "execute_result",
          "data": {
            "text/plain": [
              "731     Diabetes\n",
              "1137      Normal\n",
              "91      Diabetes\n",
              "191     Diabetes\n",
              "842     Diabetes\n",
              "Name: Diagnosa akhir, dtype: object"
            ]
          },
          "metadata": {},
          "execution_count": 77
        }
      ]
    },
    {
      "cell_type": "markdown",
      "source": [
        "# **4. Naive Bayes**"
      ],
      "metadata": {
        "id": "yv-L7EepAK4-"
      }
    },
    {
      "cell_type": "code",
      "source": [
        "# Bangun dan latih model Naive Bayes\n",
        "model = GaussianNB()\n",
        "# Memasukkan data training pada fungsi klasifikasi naive bayes\n",
        "nbtrain = model.fit(X_train, y_train)"
      ],
      "metadata": {
        "id": "dqyd-y_nAQ4I"
      },
      "execution_count": 78,
      "outputs": []
    },
    {
      "cell_type": "code",
      "source": [
        "Y_predict = nbtrain.predict(X_test)\n",
        "print(\"Prediksi Naive Bayes : \",Y_predict)"
      ],
      "metadata": {
        "colab": {
          "base_uri": "https://localhost:8080/"
        },
        "id": "UslI9cD9d4tj",
        "outputId": "f068f43f-6047-4ab2-95dc-ca3857dad1a4"
      },
      "execution_count": 79,
      "outputs": [
        {
          "output_type": "stream",
          "name": "stdout",
          "text": [
            "Prediksi Naive Bayes :  ['Normal' 'Diabetes' 'Diabetes' 'Diabetes' 'Diabetes' 'Diabetes'\n",
            " 'Diabetes' 'Diabetes' 'Diabetes' 'Diabetes' 'Diabetes' 'Diabetes'\n",
            " 'Diabetes' 'Normal' 'Diabetes' 'Diabetes' 'Diabetes' 'Diabetes'\n",
            " 'Diabetes' 'Diabetes' 'Diabetes' 'Diabetes' 'Diabetes' 'Diabetes'\n",
            " 'Diabetes' 'Diabetes' 'Diabetes' 'Diabetes' 'Diabetes' 'Diabetes'\n",
            " 'Diabetes' 'Diabetes' 'Normal' 'Diabetes' 'Diabetes' 'Diabetes'\n",
            " 'Diabetes' 'Diabetes' 'Diabetes' 'Diabetes' 'Diabetes' 'Diabetes'\n",
            " 'Diabetes' 'Diabetes' 'Diabetes' 'Diabetes' 'Diabetes' 'Diabetes'\n",
            " 'Diabetes' 'Diabetes' 'Normal' 'Normal' 'Diabetes' 'Diabetes' 'Normal'\n",
            " 'Diabetes' 'Diabetes' 'Diabetes' 'Diabetes' 'Normal' 'Diabetes'\n",
            " 'Diabetes' 'Diabetes' 'Normal' 'Diabetes' 'Diabetes' 'Diabetes'\n",
            " 'Diabetes' 'Normal' 'Normal' 'Normal' 'Diabetes' 'Normal' 'Diabetes'\n",
            " 'Diabetes' 'Normal' 'Normal' 'Diabetes' 'Normal' 'Diabetes' 'Normal'\n",
            " 'Diabetes' 'Diabetes' 'Diabetes' 'Diabetes' 'Normal' 'Diabetes'\n",
            " 'Diabetes']\n"
          ]
        }
      ]
    },
    {
      "cell_type": "markdown",
      "source": [
        "## Save Model ke PKL"
      ],
      "metadata": {
        "id": "EYatqbIIOmUW"
      }
    },
    {
      "cell_type": "code",
      "source": [
        "# Simpan model ke dalam file 'naive_bayes_model.pkl'\n",
        "with open('naive_bayes_model.pkl', 'wb') as file:\n",
        "    pickle.dump(model, file)"
      ],
      "metadata": {
        "id": "kLUzvPD5OlNc"
      },
      "execution_count": 80,
      "outputs": []
    },
    {
      "cell_type": "code",
      "source": [
        "# Open model\n",
        "with open('naive_bayes_model.pkl', 'rb') as file:\n",
        "  nb = pickle.load(file)"
      ],
      "metadata": {
        "id": "kFUs-J-4NqZt"
      },
      "execution_count": 81,
      "outputs": []
    },
    {
      "cell_type": "markdown",
      "source": [
        "# **5. Evaluasi Model**"
      ],
      "metadata": {
        "id": "LhILMxTfARY-"
      }
    },
    {
      "cell_type": "code",
      "source": [
        "# Mengetahui akurasi model\n",
        "accuracy= accuracy_score(y_test, Y_predict)\n",
        "print(\"Akurasi Naive Bayes : \",accuracy)"
      ],
      "metadata": {
        "id": "aQxbGgBUAW0Z",
        "colab": {
          "base_uri": "https://localhost:8080/"
        },
        "outputId": "d957254e-885c-4137-ef50-52e1cef1b31d"
      },
      "execution_count": 82,
      "outputs": [
        {
          "output_type": "stream",
          "name": "stdout",
          "text": [
            "Akurasi Naive Bayes :  1.0\n"
          ]
        }
      ]
    },
    {
      "cell_type": "markdown",
      "source": [
        "## Confusion Matrix"
      ],
      "metadata": {
        "id": "StcujLCGj9w_"
      }
    },
    {
      "cell_type": "code",
      "source": [
        "cm = confusion_matrix(y_test, Y_predict)\n",
        "disp = ConfusionMatrixDisplay(confusion_matrix=cm)\n",
        "disp.plot(cmap=plt.cm.Blues)\n",
        "plt.title('Confusion Matrix')\n",
        "plt.show()"
      ],
      "metadata": {
        "colab": {
          "base_uri": "https://localhost:8080/",
          "height": 472
        },
        "id": "Do9Moj71grYp",
        "outputId": "de9df0e3-e28d-4755-a967-17cf42b176de"
      },
      "execution_count": 83,
      "outputs": [
        {
          "output_type": "display_data",
          "data": {
            "text/plain": [
              "<Figure size 640x480 with 2 Axes>"
            ],
            "image/png": "[encoded data removed]"
          },
          "metadata": {}
        }
      ]
    },
    {
      "cell_type": "code",
      "source": [
        "# Menghitung nilai akurasi dari klasifikasi naive bayes\n",
        "print(classification_report(y_test, Y_predict))"
      ],
      "metadata": {
        "colab": {
          "base_uri": "https://localhost:8080/"
        },
        "id": "PHaVBGKKehp8",
        "outputId": "88b2774c-4f88-46d7-f326-cfa388be797e"
      },
      "execution_count": 84,
      "outputs": [
        {
          "output_type": "stream",
          "name": "stdout",
          "text": [
            "              precision    recall  f1-score   support\n",
            "\n",
            "    Diabetes       1.00      1.00      1.00        71\n",
            "      Normal       1.00      1.00      1.00        17\n",
            "\n",
            "    accuracy                           1.00        88\n",
            "   macro avg       1.00      1.00      1.00        88\n",
            "weighted avg       1.00      1.00      1.00        88\n",
            "\n"
          ]
        }
      ]
    },
    {
      "cell_type": "markdown",
      "source": [
        "## Mengecek Overfit"
      ],
      "metadata": {
        "id": "UelRMmu7fAsC"
      }
    },
    {
      "cell_type": "code",
      "source": [
        "def plot_learning_curve(\n",
        "    estimator, title, X, y, axes=None, ylim=None, cv=None,\n",
        "    n_jobs=None, scoring=None, train_sizes=np.linspace(0.1, 1.0, 5)\n",
        "):\n",
        "    if axes is None:\n",
        "        _, axes = plt.subplots(1, 3, figsize=(20, 5))\n",
        "\n",
        "    axes[0].set_title(title)\n",
        "    if ylim is not None:\n",
        "        axes[0].set_ylim(*ylim)\n",
        "    axes[0].set_xlabel(\"Training examples\")\n",
        "    axes[0].set_ylabel(\"Score\")\n",
        "\n",
        "    train_sizes, train_scores, test_scores, fit_times, _ = learning_curve(\n",
        "        estimator, X, y, scoring=scoring, cv=cv,\n",
        "        n_jobs=n_jobs, train_sizes=train_sizes, return_times=True,\n",
        "    )\n",
        "    train_scores_mean = np.mean(train_scores, axis=1)\n",
        "    train_scores_std = np.std(train_scores, axis=1)\n",
        "    test_scores_mean = np.mean(test_scores, axis=1)\n",
        "    test_scores_std = np.std(test_scores, axis=1)\n",
        "    fit_times_mean = np.mean(fit_times, axis=1)\n",
        "    fit_times_std = np.std(fit_times, axis=1)\n",
        "\n",
        "    # Plot learning curve\n",
        "    axes[0].grid()\n",
        "    axes[0].fill_between(\n",
        "        train_sizes, train_scores_mean - train_scores_std,\n",
        "        train_scores_mean + train_scores_std, alpha=0.1, color=\"r\",\n",
        "    )\n",
        "    axes[0].fill_between(\n",
        "        train_sizes, test_scores_mean - test_scores_std,\n",
        "        test_scores_mean + test_scores_std, alpha=0.1, color=\"g\",\n",
        "    )\n",
        "    axes[0].plot(\n",
        "        train_sizes, train_scores_mean, \"o-\", color=\"r\", label=\"Training score\"\n",
        "    )\n",
        "    axes[0].plot(\n",
        "        train_sizes, test_scores_mean, \"o-\", color=\"g\", label=\"Cross-validation score\"\n",
        "    )\n",
        "    axes[0].legend(loc=\"best\")\n",
        "\n",
        "    # Plot n_samples vs fit_times\n",
        "    axes[1].grid()\n",
        "    axes[1].plot(train_sizes, fit_times_mean, \"o-\")\n",
        "    axes[1].fill_between(\n",
        "        train_sizes, fit_times_mean - fit_times_std,\n",
        "        fit_times_mean + fit_times_std, alpha=0.1,\n",
        "    )\n",
        "    axes[1].set_xlabel(\"Training examples\")\n",
        "    axes[1].set_ylabel(\"fit_times\")\n",
        "    axes[1].set_title(\"Scalability of the model\")\n",
        "\n",
        "    # Plot fit_time vs score\n",
        "    fit_time_argsort = fit_times_mean.argsort()\n",
        "    fit_time_sorted = fit_times_mean[fit_time_argsort]\n",
        "    test_scores_mean_sorted = test_scores_mean[fit_time_argsort]\n",
        "    test_scores_std_sorted = test_scores_std[fit_time_argsort]\n",
        "    axes[2].grid()\n",
        "    axes[2].plot(fit_time_sorted, test_scores_mean_sorted, \"o-\")\n",
        "    axes[2].fill_between(\n",
        "        fit_time_sorted, test_scores_mean_sorted - test_scores_std_sorted,\n",
        "        test_scores_mean_sorted + test_scores_std_sorted, alpha=0.1,\n",
        "    )\n",
        "    axes[2].set_xlabel(\"fit_times\")\n",
        "    axes[2].set_ylabel(\"Score\")\n",
        "    axes[2].set_title(\"Performance of the model\")\n",
        "\n",
        "    return plt"
      ],
      "metadata": {
        "id": "5FHuNHh_f_6e"
      },
      "execution_count": 85,
      "outputs": []
    },
    {
      "cell_type": "code",
      "source": [
        "X = df_cleaned.iloc[:, :-1]\n",
        "y = df_cleaned.iloc[:, -1]\n",
        "\n",
        "title = \"Learning Curves (Naive Bayes)\"\n",
        "cv = ShuffleSplit(n_splits=50, test_size=0.2, random_state=0)\n",
        "estimator = GaussianNB()\n",
        "\n",
        "plot_learning_curve(\n",
        "    estimator,\n",
        "    title,\n",
        "    X,\n",
        "    y,\n",
        "    ylim=(0.7, 1.01),\n",
        "    cv=cv,\n",
        "    n_jobs=4,\n",
        "    scoring=\"accuracy\",\n",
        ")\n",
        "\n",
        "plt.show()"
      ],
      "metadata": {
        "colab": {
          "base_uri": "https://localhost:8080/",
          "height": 350
        },
        "id": "uqlvqgXdeEsl",
        "outputId": "d5e6d169-8b8f-4d1a-d7e9-0a37734d7ac0"
      },
      "execution_count": 86,
      "outputs": [
        {
          "output_type": "display_data",
          "data": {
            "text/plain": [
              "<Figure size 2000x500 with 3 Axes>"
            ],
            "image/png": "[encoded data removed]"
          },
          "metadata": {}
        }
      ]
    },
    {
      "cell_type": "markdown",
      "source": [
        "# **Coba-coba**"
      ],
      "metadata": {
        "id": "qLImUQaahuhn"
      }
    },
    {
      "cell_type": "code",
      "source": [
        "class convert_data:\n",
        "    def __init__(self, df):\n",
        "        self.df = df\n",
        "\n",
        "    def usia(self, row):\n",
        "        usia = row['usia_tahun']\n",
        "        if usia < 45:\n",
        "            return 1\n",
        "        else:\n",
        "            return 2\n",
        "\n",
        "    def imt(self, row):\n",
        "        bmi = row['IMT']\n",
        "        if bmi < 18.4:\n",
        "            return 1\n",
        "        elif bmi > 25.0:\n",
        "            return 3\n",
        "        else:\n",
        "            return 2\n",
        "\n",
        "    def gender(self, row):\n",
        "        jk = row['gender']\n",
        "        if jk == 'P':\n",
        "            return 1\n",
        "        else:\n",
        "            return 2\n",
        "\n",
        "    def gdp(self, row):\n",
        "        glupu = row['Glukosa Puasa']\n",
        "        if glupu >= 126 :\n",
        "          return 1\n",
        "        else:\n",
        "            return 2\n",
        "\n",
        "    def gd2pp(self, row):\n",
        "        glupp = row['Glukosa 2 Jam PP']\n",
        "        if glupp >= 200 :\n",
        "          return 1\n",
        "        else:\n",
        "            return 2\n",
        "\n",
        "    def hba1c(self, row):\n",
        "        a1c = row['HbA1C']\n",
        "        if a1c >= 6.5 :\n",
        "          return 1\n",
        "        else:\n",
        "            return 2\n",
        "\n",
        "    def transform_columns(self):\n",
        "        self.df['usia_tahun'] = self.df.apply(self.usia, axis=1)\n",
        "        self.df['IMT'] = self.df.apply(self.imt, axis=1)\n",
        "        self.df['gender'] = self.df.apply(self.gender, axis=1)\n",
        "        self.df['Glukosa Puasa'] = self.df.apply(self.gdp, axis=1)\n",
        "        self.df['Glukosa 2 Jam PP'] = self.df.apply(self.gd2pp, axis=1)\n",
        "        self.df['HbA1C'] = self.df.apply(self.hba1c, axis=1)\n",
        "\n",
        "    def process(self):\n",
        "        self.transform_columns()\n",
        "        return self.df\n",
        "\n",
        "# Contoh data pelatihan\n",
        "coba_data = {\n",
        "    'gender': ['L', 'P', 'L', 'P', 'L', 'P', 'L', 'P', 'L', 'P'],\n",
        "    'usia_tahun': [55, 34, 48, 29, 61, 52, 44, 38, 66, 47],\n",
        "    'IMT': [27.5, 29.0, 29.8, 24.5, 31.2, 28.3, 26.1, 23.4, 32.0, 30.5],\n",
        "    'Glukosa 2 Jam PP': [180, 150, 210, 135, 250, 200, 145, 160, 220, 180],\n",
        "    'Glukosa Puasa': [110, 90, 130, 85, 140, 120, 95, 105, 150, 115],\n",
        "    'HbA1C': [6.9, 7.8, 7.1, 5.6, 7.5, 6.8, 5.9, 6.0, 7.8, 6.2]\n",
        "}\n",
        "\n",
        "# Membuat DataFrame dari data pelatihan\n",
        "df_coba = pd.DataFrame(coba_data)\n",
        "conv = convert_data(df_coba)\n",
        "df_coba = conv.process()\n",
        "pred = nbtrain.predict(df_coba)\n",
        "\n",
        "print(pred)"
      ],
      "metadata": {
        "colab": {
          "base_uri": "https://localhost:8080/"
        },
        "id": "y128JHPnnhNF",
        "outputId": "6d4a49a2-0abd-4407-9019-de3f4ff6b794"
      },
      "execution_count": 87,
      "outputs": [
        {
          "output_type": "stream",
          "name": "stdout",
          "text": [
            "['Diabetes' 'Diabetes' 'Diabetes' 'Normal' 'Diabetes' 'Diabetes' 'Normal'\n",
            " 'Normal' 'Diabetes' 'Normal']\n"
          ]
        }
      ]
    },
    {
      "cell_type": "code",
      "source": [
        "y_pred = nb.predict(df_coba)\n",
        "print(y_pred)"
      ],
      "metadata": {
        "colab": {
          "base_uri": "https://localhost:8080/"
        },
        "id": "myfdEapbOsfK",
        "outputId": "49bc6f82-2f02-43d4-9bcf-1f2f745836f3"
      },
      "execution_count": 89,
      "outputs": [
        {
          "output_type": "stream",
          "name": "stdout",
          "text": [
            "['Diabetes' 'Diabetes' 'Diabetes' 'Normal' 'Diabetes' 'Diabetes' 'Normal'\n",
            " 'Normal' 'Diabetes' 'Normal']\n"
          ]
        }
      ]
    }
  ]
}